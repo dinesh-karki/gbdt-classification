{
 "cells": [
  {
   "cell_type": "code",
   "execution_count": 1,
   "id": "7825bfaf",
   "metadata": {
    "execution": {
     "iopub.execute_input": "2021-12-04T22:59:19.172193Z",
     "iopub.status.busy": "2021-12-04T22:59:19.171901Z",
     "iopub.status.idle": "2021-12-04T22:59:19.962611Z",
     "shell.execute_reply": "2021-12-04T22:59:19.961940Z",
     "shell.execute_reply.started": "2021-12-04T22:59:19.172130Z"
    }
   },
   "outputs": [
    {
     "name": "stderr",
     "output_type": "stream",
     "text": [
      "INFO:dask-saturn:Cluster is ready\n",
      "INFO:dask-saturn:Registering default plugins\n",
      "INFO:dask-saturn:Success!\n"
     ]
    },
    {
     "data": {
      "text/html": [
       "<table style=\"border: 2px solid white;\">\n",
       "<tr>\n",
       "<td style=\"vertical-align: top; border: 0px solid white\">\n",
       "<h3 style=\"text-align: left;\">Client</h3>\n",
       "<ul style=\"text-align: left; list-style: none; margin: 0; padding: 0;\">\n",
       "  <li><b>Scheduler: </b>tcp://d-dkark-dinesh-ml-e7cccc4d496b430cbdc6b8eb801eab0c.main-namespace:8786</li>\n",
       "  <li><b>Dashboard: </b><a href='https://d-dkark-dinesh-ml-e7cccc4d496b430cbdc6b8eb801eab0c.community.saturnenterprise.io' target='_blank'>https://d-dkark-dinesh-ml-e7cccc4d496b430cbdc6b8eb801eab0c.community.saturnenterprise.io</a></li>\n",
       "</ul>\n",
       "</td>\n",
       "<td style=\"vertical-align: top; border: 0px solid white\">\n",
       "<h3 style=\"text-align: left;\">Cluster</h3>\n",
       "<ul style=\"text-align: left; list-style:none; margin: 0; padding: 0;\">\n",
       "  <li><b>Workers: </b>3</li>\n",
       "  <li><b>Cores: </b>12</li>\n",
       "  <li><b>Memory: </b>43.31 GiB</li>\n",
       "</ul>\n",
       "</td>\n",
       "</tr>\n",
       "</table>"
      ],
      "text/plain": [
       "<Client: 'tcp://192.168.218.144:8786' processes=3 threads=12, memory=43.31 GiB>"
      ]
     },
     "execution_count": 1,
     "metadata": {},
     "output_type": "execute_result"
    }
   ],
   "source": [
    "from dask_saturn import SaturnCluster\n",
    "from dask.distributed import Client\n",
    "\n",
    "cluster = SaturnCluster()\n",
    "client = Client(cluster)\n",
    "client"
   ]
  },
  {
   "cell_type": "code",
   "execution_count": 5,
   "id": "539614e3",
   "metadata": {
    "execution": {
     "iopub.execute_input": "2021-12-04T23:06:29.156827Z",
     "iopub.status.busy": "2021-12-04T23:06:29.156597Z",
     "iopub.status.idle": "2021-12-04T23:06:39.223734Z",
     "shell.execute_reply": "2021-12-04T23:06:39.223038Z",
     "shell.execute_reply.started": "2021-12-04T23:06:29.156804Z"
    }
   },
   "outputs": [],
   "source": [
    "!pip install -q scikit-learn optuna"
   ]
  },
  {
   "cell_type": "code",
   "execution_count": 31,
   "id": "779765ba",
   "metadata": {
    "execution": {
     "iopub.execute_input": "2021-12-04T23:18:09.522910Z",
     "iopub.status.busy": "2021-12-04T23:18:09.522656Z",
     "iopub.status.idle": "2021-12-04T23:18:09.528185Z",
     "shell.execute_reply": "2021-12-04T23:18:09.527576Z",
     "shell.execute_reply.started": "2021-12-04T23:18:09.522885Z"
    }
   },
   "outputs": [],
   "source": [
    "import pandas as pd\n",
    "import numpy as np\n",
    "\n",
    "from sklearn.model_selection import train_test_split\n",
    "from sklearn.model_selection import KFold\n",
    "from sklearn.metrics import roc_auc_score\n",
    "from catboost import CatBoostClassifier, Pool\n",
    "from catboost.utils import eval_metric\n",
    "\n",
    "import optuna\n",
    "from optuna.samplers import TPESampler\n"
   ]
  },
  {
   "cell_type": "code",
   "execution_count": 8,
   "id": "51cb1ce4",
   "metadata": {
    "execution": {
     "iopub.execute_input": "2021-12-04T23:06:57.165233Z",
     "iopub.status.busy": "2021-12-04T23:06:57.165001Z",
     "iopub.status.idle": "2021-12-04T23:06:58.137145Z",
     "shell.execute_reply": "2021-12-04T23:06:58.136218Z",
     "shell.execute_reply.started": "2021-12-04T23:06:57.165212Z"
    }
   },
   "outputs": [],
   "source": [
    "model_df = pd.read_csv(\"imputed_df.csv\", index_col=0)"
   ]
  },
  {
   "cell_type": "code",
   "execution_count": 9,
   "id": "10c73191",
   "metadata": {
    "execution": {
     "iopub.execute_input": "2021-12-04T23:07:02.306752Z",
     "iopub.status.busy": "2021-12-04T23:07:02.306491Z",
     "iopub.status.idle": "2021-12-04T23:07:02.328456Z",
     "shell.execute_reply": "2021-12-04T23:07:02.327637Z",
     "shell.execute_reply.started": "2021-12-04T23:07:02.306729Z"
    }
   },
   "outputs": [
    {
     "data": {
      "text/html": [
       "<div>\n",
       "<style scoped>\n",
       "    .dataframe tbody tr th:only-of-type {\n",
       "        vertical-align: middle;\n",
       "    }\n",
       "\n",
       "    .dataframe tbody tr th {\n",
       "        vertical-align: top;\n",
       "    }\n",
       "\n",
       "    .dataframe thead th {\n",
       "        text-align: right;\n",
       "    }\n",
       "</style>\n",
       "<table border=\"1\" class=\"dataframe\">\n",
       "  <thead>\n",
       "    <tr style=\"text-align: right;\">\n",
       "      <th></th>\n",
       "      <th>primary_type</th>\n",
       "      <th>location_description</th>\n",
       "      <th>district</th>\n",
       "      <th>ward</th>\n",
       "      <th>domestic</th>\n",
       "      <th>arrest</th>\n",
       "      <th>year</th>\n",
       "      <th>month</th>\n",
       "      <th>day</th>\n",
       "      <th>weekday</th>\n",
       "      <th>hour</th>\n",
       "    </tr>\n",
       "  </thead>\n",
       "  <tbody>\n",
       "    <tr>\n",
       "      <th>0</th>\n",
       "      <td>BATTERY</td>\n",
       "      <td>STREET</td>\n",
       "      <td>2.0</td>\n",
       "      <td>3.0</td>\n",
       "      <td>False</td>\n",
       "      <td>False</td>\n",
       "      <td>2005.0</td>\n",
       "      <td>1.0</td>\n",
       "      <td>1.0</td>\n",
       "      <td>5.0</td>\n",
       "      <td>1.0</td>\n",
       "    </tr>\n",
       "    <tr>\n",
       "      <th>1</th>\n",
       "      <td>WEAPONS VIOLATION</td>\n",
       "      <td>RESIDENCE</td>\n",
       "      <td>5.0</td>\n",
       "      <td>9.0</td>\n",
       "      <td>False</td>\n",
       "      <td>False</td>\n",
       "      <td>2005.0</td>\n",
       "      <td>1.0</td>\n",
       "      <td>1.0</td>\n",
       "      <td>5.0</td>\n",
       "      <td>1.0</td>\n",
       "    </tr>\n",
       "    <tr>\n",
       "      <th>2</th>\n",
       "      <td>CRIMINAL DAMAGE</td>\n",
       "      <td>CHURCH / SYNAGOGUE / PLACE OF WORSHIP</td>\n",
       "      <td>2.0</td>\n",
       "      <td>3.0</td>\n",
       "      <td>False</td>\n",
       "      <td>False</td>\n",
       "      <td>2005.0</td>\n",
       "      <td>1.0</td>\n",
       "      <td>1.0</td>\n",
       "      <td>5.0</td>\n",
       "      <td>1.0</td>\n",
       "    </tr>\n",
       "    <tr>\n",
       "      <th>3</th>\n",
       "      <td>THEFT</td>\n",
       "      <td>DEPARTMENT STORE</td>\n",
       "      <td>1.0</td>\n",
       "      <td>42.0</td>\n",
       "      <td>False</td>\n",
       "      <td>True</td>\n",
       "      <td>2005.0</td>\n",
       "      <td>1.0</td>\n",
       "      <td>1.0</td>\n",
       "      <td>5.0</td>\n",
       "      <td>1.0</td>\n",
       "    </tr>\n",
       "    <tr>\n",
       "      <th>4</th>\n",
       "      <td>THEFT</td>\n",
       "      <td>BAR OR TAVERN</td>\n",
       "      <td>18.0</td>\n",
       "      <td>42.0</td>\n",
       "      <td>False</td>\n",
       "      <td>False</td>\n",
       "      <td>2005.0</td>\n",
       "      <td>1.0</td>\n",
       "      <td>1.0</td>\n",
       "      <td>5.0</td>\n",
       "      <td>1.0</td>\n",
       "    </tr>\n",
       "    <tr>\n",
       "      <th>...</th>\n",
       "      <td>...</td>\n",
       "      <td>...</td>\n",
       "      <td>...</td>\n",
       "      <td>...</td>\n",
       "      <td>...</td>\n",
       "      <td>...</td>\n",
       "      <td>...</td>\n",
       "      <td>...</td>\n",
       "      <td>...</td>\n",
       "      <td>...</td>\n",
       "      <td>...</td>\n",
       "    </tr>\n",
       "    <tr>\n",
       "      <th>999995</th>\n",
       "      <td>OTHER OFFENSE</td>\n",
       "      <td>STREET</td>\n",
       "      <td>2.0</td>\n",
       "      <td>3.0</td>\n",
       "      <td>False</td>\n",
       "      <td>False</td>\n",
       "      <td>2008.0</td>\n",
       "      <td>12.0</td>\n",
       "      <td>31.0</td>\n",
       "      <td>2.0</td>\n",
       "      <td>12.0</td>\n",
       "    </tr>\n",
       "    <tr>\n",
       "      <th>999996</th>\n",
       "      <td>BATTERY</td>\n",
       "      <td>STREET</td>\n",
       "      <td>1.0</td>\n",
       "      <td>42.0</td>\n",
       "      <td>True</td>\n",
       "      <td>False</td>\n",
       "      <td>2008.0</td>\n",
       "      <td>12.0</td>\n",
       "      <td>31.0</td>\n",
       "      <td>2.0</td>\n",
       "      <td>12.0</td>\n",
       "    </tr>\n",
       "    <tr>\n",
       "      <th>999997</th>\n",
       "      <td>MOTOR VEHICLE THEFT</td>\n",
       "      <td>STREET</td>\n",
       "      <td>7.0</td>\n",
       "      <td>17.0</td>\n",
       "      <td>False</td>\n",
       "      <td>False</td>\n",
       "      <td>2008.0</td>\n",
       "      <td>12.0</td>\n",
       "      <td>31.0</td>\n",
       "      <td>2.0</td>\n",
       "      <td>12.0</td>\n",
       "    </tr>\n",
       "    <tr>\n",
       "      <th>999998</th>\n",
       "      <td>BURGLARY</td>\n",
       "      <td>RESIDENCE</td>\n",
       "      <td>6.0</td>\n",
       "      <td>17.0</td>\n",
       "      <td>False</td>\n",
       "      <td>False</td>\n",
       "      <td>2008.0</td>\n",
       "      <td>12.0</td>\n",
       "      <td>31.0</td>\n",
       "      <td>2.0</td>\n",
       "      <td>12.0</td>\n",
       "    </tr>\n",
       "    <tr>\n",
       "      <th>999999</th>\n",
       "      <td>BATTERY</td>\n",
       "      <td>RESIDENCE</td>\n",
       "      <td>6.0</td>\n",
       "      <td>6.0</td>\n",
       "      <td>True</td>\n",
       "      <td>False</td>\n",
       "      <td>2008.0</td>\n",
       "      <td>12.0</td>\n",
       "      <td>31.0</td>\n",
       "      <td>2.0</td>\n",
       "      <td>12.0</td>\n",
       "    </tr>\n",
       "  </tbody>\n",
       "</table>\n",
       "<p>1000000 rows × 11 columns</p>\n",
       "</div>"
      ],
      "text/plain": [
       "               primary_type                   location_description  district  \\\n",
       "0                   BATTERY                                 STREET       2.0   \n",
       "1         WEAPONS VIOLATION                              RESIDENCE       5.0   \n",
       "2           CRIMINAL DAMAGE  CHURCH / SYNAGOGUE / PLACE OF WORSHIP       2.0   \n",
       "3                     THEFT                       DEPARTMENT STORE       1.0   \n",
       "4                     THEFT                          BAR OR TAVERN      18.0   \n",
       "...                     ...                                    ...       ...   \n",
       "999995        OTHER OFFENSE                                 STREET       2.0   \n",
       "999996              BATTERY                                 STREET       1.0   \n",
       "999997  MOTOR VEHICLE THEFT                                 STREET       7.0   \n",
       "999998             BURGLARY                              RESIDENCE       6.0   \n",
       "999999              BATTERY                              RESIDENCE       6.0   \n",
       "\n",
       "        ward  domestic  arrest    year  month   day  weekday  hour  \n",
       "0        3.0     False   False  2005.0    1.0   1.0      5.0   1.0  \n",
       "1        9.0     False   False  2005.0    1.0   1.0      5.0   1.0  \n",
       "2        3.0     False   False  2005.0    1.0   1.0      5.0   1.0  \n",
       "3       42.0     False    True  2005.0    1.0   1.0      5.0   1.0  \n",
       "4       42.0     False   False  2005.0    1.0   1.0      5.0   1.0  \n",
       "...      ...       ...     ...     ...    ...   ...      ...   ...  \n",
       "999995   3.0     False   False  2008.0   12.0  31.0      2.0  12.0  \n",
       "999996  42.0      True   False  2008.0   12.0  31.0      2.0  12.0  \n",
       "999997  17.0     False   False  2008.0   12.0  31.0      2.0  12.0  \n",
       "999998  17.0     False   False  2008.0   12.0  31.0      2.0  12.0  \n",
       "999999   6.0      True   False  2008.0   12.0  31.0      2.0  12.0  \n",
       "\n",
       "[1000000 rows x 11 columns]"
      ]
     },
     "execution_count": 9,
     "metadata": {},
     "output_type": "execute_result"
    }
   ],
   "source": [
    "model_df"
   ]
  },
  {
   "cell_type": "code",
   "execution_count": 44,
   "id": "1a6f09e1",
   "metadata": {
    "execution": {
     "iopub.execute_input": "2021-12-04T23:26:05.246736Z",
     "iopub.status.busy": "2021-12-04T23:26:05.246479Z",
     "iopub.status.idle": "2021-12-04T23:26:05.538681Z",
     "shell.execute_reply": "2021-12-04T23:26:05.538077Z",
     "shell.execute_reply.started": "2021-12-04T23:26:05.246714Z"
    }
   },
   "outputs": [],
   "source": [
    "X = model_df.drop('arrest', axis = 1)\n",
    "y = model_df.arrest.apply(lambda x: 1 if x else 0)"
   ]
  },
  {
   "cell_type": "code",
   "execution_count": 50,
   "id": "d82af0f8",
   "metadata": {
    "execution": {
     "iopub.execute_input": "2021-12-04T23:27:51.598994Z",
     "iopub.status.busy": "2021-12-04T23:27:51.598756Z",
     "iopub.status.idle": "2021-12-04T23:27:51.673440Z",
     "shell.execute_reply": "2021-12-04T23:27:51.672745Z",
     "shell.execute_reply.started": "2021-12-04T23:27:51.598973Z"
    }
   },
   "outputs": [],
   "source": [
    "X['district'] = X['district'].astype(np.int64)\n",
    "X['ward'] = X['ward'].astype(np.int64)\n",
    "X['year'] = X['year'].astype(np.int64)\n",
    "X['month'] = X['month'].astype(np.int64)\n",
    "X['day'] = X['day'].astype(np.int64)\n",
    "X['weekday'] = X['weekday'].astype(np.int64)\n",
    "X['hour'] = X['hour'].astype(np.int64)"
   ]
  },
  {
   "cell_type": "code",
   "execution_count": 51,
   "id": "a08a9841",
   "metadata": {
    "execution": {
     "iopub.execute_input": "2021-12-04T23:27:54.161435Z",
     "iopub.status.busy": "2021-12-04T23:27:54.161199Z",
     "iopub.status.idle": "2021-12-04T23:27:54.616822Z",
     "shell.execute_reply": "2021-12-04T23:27:54.616261Z",
     "shell.execute_reply.started": "2021-12-04T23:27:54.161413Z"
    }
   },
   "outputs": [],
   "source": [
    "X_train, X_test, y_train, y_test = train_test_split(X, \n",
    "                                                    y, \n",
    "                                                    stratify=y,\n",
    "                                                    test_size=0.25,\n",
    "                                                    random_state=21)"
   ]
  },
  {
   "cell_type": "code",
   "execution_count": 48,
   "id": "d06991aa",
   "metadata": {
    "execution": {
     "iopub.execute_input": "2021-12-04T23:27:34.823506Z",
     "iopub.status.busy": "2021-12-04T23:27:34.823276Z",
     "iopub.status.idle": "2021-12-04T23:27:34.832091Z",
     "shell.execute_reply": "2021-12-04T23:27:34.831356Z",
     "shell.execute_reply.started": "2021-12-04T23:27:34.823484Z"
    }
   },
   "outputs": [
    {
     "data": {
      "text/plain": [
       "0    529989\n",
       "1    220011\n",
       "Name: arrest, dtype: int64"
      ]
     },
     "execution_count": 48,
     "metadata": {},
     "output_type": "execute_result"
    }
   ],
   "source": [
    "y_train.value_counts()"
   ]
  },
  {
   "cell_type": "code",
   "execution_count": 52,
   "id": "770c4281",
   "metadata": {
    "execution": {
     "iopub.execute_input": "2021-12-04T23:27:56.161599Z",
     "iopub.status.busy": "2021-12-04T23:27:56.161347Z",
     "iopub.status.idle": "2021-12-04T23:27:59.149718Z",
     "shell.execute_reply": "2021-12-04T23:27:59.149112Z",
     "shell.execute_reply.started": "2021-12-04T23:27:56.161575Z"
    }
   },
   "outputs": [],
   "source": [
    "cat_cols = X.columns.values.tolist()\n",
    "\n",
    "train_data = Pool(data = X_train,\n",
    "                  label = y_train,\n",
    "                  cat_features = cat_cols)\n",
    "\n",
    "eval_dataset = Pool(data = X_test,\n",
    "                    label = y_test,\n",
    "                    cat_features = cat_cols)\n"
   ]
  },
  {
   "cell_type": "code",
   "execution_count": 53,
   "id": "d5b28cd0",
   "metadata": {
    "execution": {
     "iopub.execute_input": "2021-12-04T23:27:59.150950Z",
     "iopub.status.busy": "2021-12-04T23:27:59.150766Z",
     "iopub.status.idle": "2021-12-04T23:28:00.943684Z",
     "shell.execute_reply": "2021-12-04T23:28:00.943110Z",
     "shell.execute_reply.started": "2021-12-04T23:27:59.150930Z"
    }
   },
   "outputs": [],
   "source": [
    "X_train_f, y_train_f = client.scatter([X_train, y_train])"
   ]
  },
  {
   "cell_type": "code",
   "execution_count": 66,
   "id": "727f1fcf",
   "metadata": {
    "execution": {
     "iopub.execute_input": "2021-12-04T23:34:01.729209Z",
     "iopub.status.busy": "2021-12-04T23:34:01.728961Z",
     "iopub.status.idle": "2021-12-04T23:34:01.734307Z",
     "shell.execute_reply": "2021-12-04T23:34:01.733574Z",
     "shell.execute_reply.started": "2021-12-04T23:34:01.729185Z"
    }
   },
   "outputs": [],
   "source": [
    "def fit_reg(train_idx, val_idx, train_x, train_y, cat_cols, params):\n",
    "      train_x, val_x = X_train.iloc[train_idx], X_train.iloc[val_idx]\n",
    "      train_y, val_y = y_train.iloc[train_idx], y_train.iloc[val_idx]\n",
    "\n",
    "      cat_cols = X_train.columns.values.tolist()\n",
    "\n",
    "      train_pool = Pool(data = train_x,\n",
    "                  label = train_y,\n",
    "                  cat_features = cat_cols)\n",
    "\n",
    "      val_pool = Pool(data = val_x,\n",
    "                    label = val_y,\n",
    "                    cat_features = cat_cols)\n",
    "\n",
    "      model = CatBoostClassifier(\n",
    "          **params,\n",
    "          loss_function= 'Logloss',\n",
    "          eval_metric='AUC',\n",
    "          task_type='GPU',\n",
    "          early_stopping_rounds=50,\n",
    "          random_seed=21,\n",
    "          )\n",
    "    \n",
    "      model.fit(train_pool, \n",
    "                eval_set=val_pool,\n",
    "                verbose=0)\n",
    "      y_preds = model.predict_proba(val_pool)\n",
    "      return eval_metric(val_pool.get_label(), y_preds[:,1], 'AUC')\n",
    "      #return roc_auc_score(val_y, y_preds)\n",
    "  "
   ]
  },
  {
   "cell_type": "code",
   "execution_count": 70,
   "id": "6aeaa272",
   "metadata": {
    "execution": {
     "iopub.execute_input": "2021-12-04T23:39:22.267219Z",
     "iopub.status.busy": "2021-12-04T23:39:22.266977Z",
     "iopub.status.idle": "2021-12-04T23:39:22.272937Z",
     "shell.execute_reply": "2021-12-04T23:39:22.272184Z",
     "shell.execute_reply.started": "2021-12-04T23:39:22.267197Z"
    }
   },
   "outputs": [],
   "source": [
    "# Objective function\n",
    "def objective(trial):\n",
    "    params = {\n",
    "        'iterations': trial.suggest_int('iterations', 50, 500),\n",
    "        'depth': trial.suggest_int('depth', 3, 10),\n",
    "        'learning_rate': trial.suggest_loguniform('learning_rate', 0.01, 0.1),\n",
    "        'l2_leaf_reg': trial.suggest_float('l2_leaf_reg', 1, 10),\n",
    "        'max_ctr_complexity': trial.suggest_int('max_ctr_complexity', 0, 8),\n",
    "        'random_strength': trial.suggest_int('random_strength', 0, 100),\n",
    "        'bagging_temperature': trial.suggest_loguniform('bagging_temperature', 0.01, 100.00),\n",
    "    }\n",
    "    \n",
    "    cat_cols = X_train.columns.values.tolist()\n",
    "    \n",
    "    kf = KFold(n_splits=10, random_state=21, shuffle=True)\n",
    "    scores = []\n",
    "\n",
    "    for train_idx, val_idx in kf.split(X_train):\n",
    "      result = client.submit(fit_reg, train_idx, val_idx, X_train_f, y_train_f, cat_cols, params)\n",
    "      score = client.gather(result)\n",
    "      scores.append(score)\n",
    "\n",
    "    return np.mean(scores)\n"
   ]
  },
  {
   "cell_type": "code",
   "execution_count": 71,
   "id": "ffd6ba78",
   "metadata": {
    "execution": {
     "iopub.execute_input": "2021-12-04T23:39:24.951853Z",
     "iopub.status.busy": "2021-12-04T23:39:24.951625Z",
     "iopub.status.idle": "2021-12-04T23:45:41.463803Z",
     "shell.execute_reply": "2021-12-04T23:45:41.463069Z",
     "shell.execute_reply.started": "2021-12-04T23:39:24.951831Z"
    }
   },
   "outputs": [
    {
     "name": "stderr",
     "output_type": "stream",
     "text": [
      "\u001b[32m[I 2021-12-04 23:39:24,953]\u001b[0m A new study created in memory with name: no-name-91c856a7-4d38-40ef-b88c-510501eb4b6a\u001b[0m\n"
     ]
    },
    {
     "name": "stdout",
     "output_type": "stream",
     "text": [
      "[0.8822942820490333]\n",
      "[0.8860948296898893]\n",
      "[0.8837665439758037]\n",
      "[0.8833926371325325]\n",
      "[0.8858184499041227]\n",
      "[0.8850700331292951]\n",
      "[0.8867382604521217]\n",
      "[0.8838457248995057]\n",
      "[0.881783118059049]\n"
     ]
    },
    {
     "name": "stderr",
     "output_type": "stream",
     "text": [
      "\u001b[32m[I 2021-12-04 23:39:56,618]\u001b[0m Trial 0 finished with value: 0.884491967761954 and parameters: {'iterations': 71, 'depth': 5, 'learning_rate': 0.05259765072681896, 'l2_leaf_reg': 1.1945462492435481, 'max_ctr_complexity': 1, 'random_strength': 5, 'bagging_temperature': 0.16184063577845234}. Best is trial 0 with value: 0.884491967761954.\u001b[0m\n"
     ]
    },
    {
     "name": "stdout",
     "output_type": "stream",
     "text": [
      "[0.8861157983281878]\n",
      "[0.8997025552862772]\n",
      "[0.9005105391985607]\n",
      "[0.8999762494773915]\n",
      "[0.8993866475301515]\n",
      "[0.9009166195144634]\n",
      "[0.9013334567596435]\n",
      "[0.9025292279095771]\n",
      "[0.9007857510217169]\n",
      "[0.898742410585051]\n"
     ]
    },
    {
     "name": "stderr",
     "output_type": "stream",
     "text": [
      "\u001b[32m[I 2021-12-04 23:45:41,459]\u001b[0m Trial 1 finished with value: 0.9005266370004759 and parameters: {'iterations': 349, 'depth': 5, 'learning_rate': 0.03833463003091129, 'l2_leaf_reg': 1.626138591513405, 'max_ctr_complexity': 7, 'random_strength': 13, 'bagging_temperature': 0.051582055717860724}. Best is trial 1 with value: 0.9005266370004759.\u001b[0m\n"
     ]
    },
    {
     "name": "stdout",
     "output_type": "stream",
     "text": [
      "[0.9013829127219252]\n",
      "CPU times: user 53.3 s, sys: 14.5 s, total: 1min 7s\n",
      "Wall time: 6min 16s\n"
     ]
    }
   ],
   "source": [
    "%%time\n",
    "# Create study\n",
    "study = optuna.create_study(direction = \"maximize\", sampler = TPESampler(seed=21))\n",
    "\n",
    "# Run optimization\n",
    "study.optimize(objective, n_trials=20)"
   ]
  },
  {
   "cell_type": "code",
   "execution_count": 73,
   "id": "553dccbb",
   "metadata": {
    "execution": {
     "iopub.execute_input": "2021-12-04T23:48:40.026580Z",
     "iopub.status.busy": "2021-12-04T23:48:40.026338Z",
     "iopub.status.idle": "2021-12-05T01:34:03.691820Z",
     "shell.execute_reply": "2021-12-05T01:34:03.691117Z",
     "shell.execute_reply.started": "2021-12-04T23:48:40.026535Z"
    }
   },
   "outputs": [
    {
     "name": "stdout",
     "output_type": "stream",
     "text": [
      "[0.9011729156564899]\n",
      "[0.9018962350792717]\n",
      "[0.9014146963471952]\n",
      "[0.9005806076586915]\n",
      "[0.9018249518327144]\n",
      "[0.9024457151839516]\n",
      "[0.9037405898695046]\n",
      "[0.9017146452603527]\n",
      "[0.8997667605758828]\n"
     ]
    },
    {
     "name": "stderr",
     "output_type": "stream",
     "text": [
      "\u001b[32m[I 2021-12-04 23:56:21,865]\u001b[0m Trial 2 finished with value: 0.9016973496699554 and parameters: {'iterations': 273, 'depth': 9, 'learning_rate': 0.057404222025053464, 'l2_leaf_reg': 9.734366128142419, 'max_ctr_complexity': 6, 'random_strength': 38, 'bagging_temperature': 0.43139322253545526}. Best is trial 2 with value: 0.9016973496699554.\u001b[0m\n"
     ]
    },
    {
     "name": "stdout",
     "output_type": "stream",
     "text": [
      "[0.9024163792355009]\n",
      "[0.9015933477018165]\n",
      "[0.9022101008550821]\n",
      "[0.9017145111822122]\n",
      "[0.9009555759951295]\n",
      "[0.902471915960919]\n",
      "[0.9029795084828871]\n",
      "[0.904093156355288]\n",
      "[0.9024258757117025]\n",
      "[0.9005551532272226]\n"
     ]
    },
    {
     "name": "stderr",
     "output_type": "stream",
     "text": [
      "\u001b[32m[I 2021-12-05 00:02:20,727]\u001b[0m Trial 3 finished with value: 0.9021780505362212 and parameters: {'iterations': 371, 'depth': 5, 'learning_rate': 0.07146655899479473, 'l2_leaf_reg': 9.21847572650625, 'max_ctr_complexity': 6, 'random_strength': 52, 'bagging_temperature': 0.04691838567431964}. Best is trial 3 with value: 0.9021780505362212.\u001b[0m\n"
     ]
    },
    {
     "name": "stdout",
     "output_type": "stream",
     "text": [
      "[0.902781359889953]\n",
      "[0.8845754536983939]\n",
      "[0.8891435316632558]\n",
      "[0.8868992585933315]\n",
      "[0.8840251928010967]\n",
      "[0.883145368754376]\n",
      "[0.8882647602670274]\n",
      "[0.8870291958643496]\n",
      "[0.88590179822283]\n",
      "[0.8804368552939432]\n"
     ]
    },
    {
     "name": "stderr",
     "output_type": "stream",
     "text": [
      "\u001b[32m[I 2021-12-05 00:05:07,279]\u001b[0m Trial 4 finished with value: 0.8853731846944018 and parameters: {'iterations': 184, 'depth': 5, 'learning_rate': 0.021242839930699108, 'l2_leaf_reg': 5.141263004136785, 'max_ctr_complexity': 4, 'random_strength': 21, 'bagging_temperature': 15.829722723991496}. Best is trial 3 with value: 0.9021780505362212.\u001b[0m\n"
     ]
    },
    {
     "name": "stdout",
     "output_type": "stream",
     "text": [
      "[0.8843104317854131]\n",
      "[0.8990367673412136]\n",
      "[0.8996448826289598]\n",
      "[0.8992313958030472]\n",
      "[0.8986364148479303]\n",
      "[0.9001128298406438]\n",
      "[0.9003659548530877]\n",
      "[0.9015170895667662]\n",
      "[0.8996083662515053]\n",
      "[0.8977888081860577]\n"
     ]
    },
    {
     "name": "stderr",
     "output_type": "stream",
     "text": [
      "\u001b[32m[I 2021-12-05 00:14:34,087]\u001b[0m Trial 5 finished with value: 0.8996559769207003 and parameters: {'iterations': 377, 'depth': 9, 'learning_rate': 0.018514918495483337, 'l2_leaf_reg': 6.533422400335912, 'max_ctr_complexity': 5, 'random_strength': 39, 'bagging_temperature': 0.4379421178920733}. Best is trial 3 with value: 0.9021780505362212.\u001b[0m\n"
     ]
    },
    {
     "name": "stdout",
     "output_type": "stream",
     "text": [
      "[0.9006172598877917]\n",
      "[0.8963946060012367]\n",
      "[0.8976093825309067]\n",
      "[0.8963766835803988]\n",
      "[0.8965605133225553]\n",
      "[0.8972084257791366]\n",
      "[0.8982412066821379]\n",
      "[0.9000504000977192]\n",
      "[0.8975235749897177]\n",
      "[0.895612611129396]\n"
     ]
    },
    {
     "name": "stderr",
     "output_type": "stream",
     "text": [
      "\u001b[32m[I 2021-12-05 00:21:49,376]\u001b[0m Trial 6 finished with value: 0.8965075756105974 and parameters: {'iterations': 415, 'depth': 7, 'learning_rate': 0.07912984929177935, 'l2_leaf_reg': 5.410290025441162, 'max_ctr_complexity': 7, 'random_strength': 86, 'bagging_temperature': 14.248874933718481}. Best is trial 3 with value: 0.9021780505362212.\u001b[0m\n"
     ]
    },
    {
     "name": "stdout",
     "output_type": "stream",
     "text": [
      "[0.8894983519927693]\n",
      "[0.901170462295483]\n",
      "[0.9016834277674414]\n",
      "[0.9012818261165797]\n",
      "[0.9004205867227141]\n",
      "[0.9020879213511809]\n",
      "[0.9023420687019428]\n",
      "[0.9035870104888828]\n",
      "[0.9016543859953872]\n",
      "[0.8999294531160223]\n"
     ]
    },
    {
     "name": "stderr",
     "output_type": "stream",
     "text": [
      "\u001b[32m[I 2021-12-05 00:32:10,973]\u001b[0m Trial 7 finished with value: 0.9016673725394773 and parameters: {'iterations': 450, 'depth': 8, 'learning_rate': 0.02847018620606998, 'l2_leaf_reg': 3.7532364830996996, 'max_ctr_complexity': 7, 'random_strength': 14, 'bagging_temperature': 0.40288954161165436}. Best is trial 3 with value: 0.9021780505362212.\u001b[0m\n"
     ]
    },
    {
     "name": "stdout",
     "output_type": "stream",
     "text": [
      "[0.9025165828391368]\n",
      "[0.8978615815940882]\n",
      "[0.8994200312947438]\n",
      "[0.8981762214790522]\n",
      "[0.8976900798355565]\n",
      "[0.899448136167836]\n",
      "[0.8992817548439009]\n",
      "[0.9007292211143144]\n",
      "[0.898807097589148]\n",
      "[0.8969097746302274]\n"
     ]
    },
    {
     "name": "stderr",
     "output_type": "stream",
     "text": [
      "\u001b[32m[I 2021-12-05 00:35:58,717]\u001b[0m Trial 8 finished with value: 0.8988370781215881 and parameters: {'iterations': 154, 'depth': 7, 'learning_rate': 0.07696053142870848, 'l2_leaf_reg': 3.9496743137127104, 'max_ctr_complexity': 7, 'random_strength': 80, 'bagging_temperature': 4.600177517331423}. Best is trial 3 with value: 0.9021780505362212.\u001b[0m\n"
     ]
    },
    {
     "name": "stdout",
     "output_type": "stream",
     "text": [
      "[0.9000468826670134]\n",
      "[0.8961294553519024]\n",
      "[0.8973144418450717]\n",
      "[0.8967823436395318]\n",
      "[0.8957677436684408]\n",
      "[0.8975461251008143]\n",
      "[0.898019983425401]\n",
      "[0.898369627890917]\n",
      "[0.8972071910518995]\n",
      "[0.8953402288712289]\n"
     ]
    },
    {
     "name": "stderr",
     "output_type": "stream",
     "text": [
      "\u001b[32m[I 2021-12-05 00:39:37,606]\u001b[0m Trial 9 finished with value: 0.8970024755625474 and parameters: {'iterations': 160, 'depth': 9, 'learning_rate': 0.029349532672828978, 'l2_leaf_reg': 7.651978542856805, 'max_ctr_complexity': 4, 'random_strength': 87, 'bagging_temperature': 6.436609590712361}. Best is trial 3 with value: 0.9021780505362212.\u001b[0m\n"
     ]
    },
    {
     "name": "stdout",
     "output_type": "stream",
     "text": [
      "[0.8975476147802671]\n",
      "[0.8850923437206392]\n",
      "[0.8880102307740498]\n",
      "[0.8876591778976887]\n",
      "[0.8858295722471742]\n",
      "[0.8878423248943362]\n",
      "[0.8874578720834368]\n",
      "[0.8879554118133774]\n",
      "[0.886526645186868]\n",
      "[0.8844987661464973]\n"
     ]
    },
    {
     "name": "stderr",
     "output_type": "stream",
     "text": [
      "\u001b[32m[I 2021-12-05 00:42:49,649]\u001b[0m Trial 10 finished with value: 0.886851077072025 and parameters: {'iterations': 282, 'depth': 3, 'learning_rate': 0.013090387784708538, 'l2_leaf_reg': 9.84226789779026, 'max_ctr_complexity': 2, 'random_strength': 64, 'bagging_temperature': 0.010986262784020914}. Best is trial 3 with value: 0.9021780505362212.\u001b[0m\n"
     ]
    },
    {
     "name": "stdout",
     "output_type": "stream",
     "text": [
      "[0.8876384259561829]\n",
      "[0.9028935472567374]\n",
      "[0.9035901650481188]\n",
      "[0.9033325894575696]\n",
      "[0.9024281015093848]\n",
      "[0.9035972613016092]\n",
      "[0.9044698990764766]\n",
      "[0.9051113865947898]\n",
      "[0.903852203113506]\n",
      "[0.9021398185211356]\n"
     ]
    },
    {
     "name": "stderr",
     "output_type": "stream",
     "text": [
      "\u001b[32m[I 2021-12-05 00:52:17,340]\u001b[0m Trial 11 finished with value: 0.9035761295689717 and parameters: {'iterations': 293, 'depth': 10, 'learning_rate': 0.09902880913698733, 'l2_leaf_reg': 9.863411715860835, 'max_ctr_complexity': 5, 'random_strength': 45, 'bagging_temperature': 0.044726461496793435}. Best is trial 11 with value: 0.9035761295689717.\u001b[0m\n"
     ]
    },
    {
     "name": "stdout",
     "output_type": "stream",
     "text": [
      "[0.9043463238103879]\n",
      "[0.9007749232560915]\n",
      "[0.9011429641104574]\n",
      "[0.9007264942482811]\n",
      "[0.9001316850338663]\n",
      "[0.9014203698174754]\n",
      "[0.9023246477001909]\n",
      "[0.9032774938919738]\n",
      "[0.901602573884735]\n",
      "[0.8997188500405655]\n"
     ]
    },
    {
     "name": "stderr",
     "output_type": "stream",
     "text": [
      "\u001b[32m[I 2021-12-05 00:57:37,145]\u001b[0m Trial 12 finished with value: 0.901313352967577 and parameters: {'iterations': 498, 'depth': 3, 'learning_rate': 0.09824595908646311, 'l2_leaf_reg': 8.00353650056507, 'max_ctr_complexity': 3, 'random_strength': 57, 'bagging_temperature': 0.011876438696668499}. Best is trial 11 with value: 0.9035761295689717.\u001b[0m\n"
     ]
    },
    {
     "name": "stdout",
     "output_type": "stream",
     "text": [
      "[0.9020135276921316]\n",
      "[0.6794090083864393]\n",
      "[0.6848143667530306]\n",
      "[0.6821839541534489]\n",
      "[0.6837527713681888]\n",
      "[0.6857386576902342]\n",
      "[0.6811840790604009]\n",
      "[0.6822119120567418]\n",
      "[0.6841607370269629]\n",
      "[0.6813831780248305]\n"
     ]
    },
    {
     "name": "stderr",
     "output_type": "stream",
     "text": [
      "\u001b[32m[I 2021-12-05 01:00:18,740]\u001b[0m Trial 13 finished with value: 0.6827870575832728 and parameters: {'iterations': 303, 'depth': 10, 'learning_rate': 0.05495045923296133, 'l2_leaf_reg': 8.287211772668302, 'max_ctr_complexity': 5, 'random_strength': 40, 'bagging_temperature': 93.43605104023345}. Best is trial 11 with value: 0.9035761295689717.\u001b[0m\n"
     ]
    },
    {
     "name": "stdout",
     "output_type": "stream",
     "text": [
      "[0.6830319113124506]\n",
      "[0.9017882814374784]\n",
      "[0.9025756849279056]\n",
      "[0.9020492441177952]\n",
      "[0.9011189456976982]\n",
      "[0.9026050140563914]\n",
      "[0.9031969001811815]\n",
      "[0.9041158049457425]\n",
      "[0.9024123578785994]\n",
      "[0.9008370247404186]\n"
     ]
    },
    {
     "name": "stderr",
     "output_type": "stream",
     "text": [
      "\u001b[32m[I 2021-12-05 01:05:16,354]\u001b[0m Trial 14 finished with value: 0.9023821473438568 and parameters: {'iterations': 243, 'depth': 6, 'learning_rate': 0.09851236219369892, 'l2_leaf_reg': 9.016982383135149, 'max_ctr_complexity': 8, 'random_strength': 70, 'bagging_temperature': 0.056962030663622105}. Best is trial 11 with value: 0.9035761295689717.\u001b[0m\n"
     ]
    },
    {
     "name": "stdout",
     "output_type": "stream",
     "text": [
      "[0.9031222154553558]\n",
      "[0.9014393868166257]\n",
      "[0.902346730457719]\n",
      "[0.9019738837807989]\n",
      "[0.9009933914034686]\n",
      "[0.9024373823314693]\n",
      "[0.9030823645025708]\n",
      "[0.9040246732904622]\n",
      "[0.9022060366458263]\n",
      "[0.9006373611435974]\n"
     ]
    },
    {
     "name": "stderr",
     "output_type": "stream",
     "text": [
      "\u001b[32m[I 2021-12-05 01:10:03,043]\u001b[0m Trial 15 finished with value: 0.902214257332097 and parameters: {'iterations': 231, 'depth': 6, 'learning_rate': 0.09996022059147683, 'l2_leaf_reg': 7.319287207042267, 'max_ctr_complexity': 8, 'random_strength': 71, 'bagging_temperature': 0.07226853560813466}. Best is trial 11 with value: 0.9035761295689717.\u001b[0m\n"
     ]
    },
    {
     "name": "stdout",
     "output_type": "stream",
     "text": [
      "[0.903001362948431]\n",
      "[0.8970785978849709]\n",
      "[0.8980618166023262]\n",
      "[0.8975071573007987]\n",
      "[0.896863101797123]\n",
      "[0.8984642154873227]\n",
      "[0.8988583667795956]\n",
      "[0.8995371725835078]\n",
      "[0.8980631079961716]\n",
      "[0.896443870041391]\n"
     ]
    },
    {
     "name": "stderr",
     "output_type": "stream",
     "text": [
      "\u001b[32m[I 2021-12-05 01:13:29,251]\u001b[0m Trial 16 finished with value: 0.8979813058714624 and parameters: {'iterations': 87, 'depth': 10, 'learning_rate': 0.040901413502549805, 'l2_leaf_reg': 8.788531155678182, 'max_ctr_complexity': 8, 'random_strength': 71, 'bagging_temperature': 1.620192814398018}. Best is trial 11 with value: 0.9035761295689717.\u001b[0m\n"
     ]
    },
    {
     "name": "stdout",
     "output_type": "stream",
     "text": [
      "[0.8989356522414169]\n",
      "[0.8919745343985441]\n",
      "[0.8941063530293177]\n",
      "[0.8933932910073745]\n",
      "[0.8925766964331605]\n",
      "[0.8947004993128136]\n",
      "[0.8946809840672564]\n",
      "[0.8955393711643626]\n",
      "[0.8938216956856259]\n",
      "[0.8915949936123974]\n"
     ]
    },
    {
     "name": "stderr",
     "output_type": "stream",
     "text": [
      "\u001b[32m[I 2021-12-05 01:15:54,635]\u001b[0m Trial 17 finished with value: 0.8936878814226805 and parameters: {'iterations': 223, 'depth': 6, 'learning_rate': 0.06809065938052149, 'l2_leaf_reg': 6.60851368744403, 'max_ctr_complexity': 0, 'random_strength': 29, 'bagging_temperature': 0.02814502549634434}. Best is trial 11 with value: 0.9035761295689717.\u001b[0m\n"
     ]
    },
    {
     "name": "stdout",
     "output_type": "stream",
     "text": [
      "[0.8944903955159518]\n",
      "[0.8984370608900761]\n",
      "[0.8994182218479696]\n",
      "[0.8992238417446656]\n",
      "[0.8981263392663971]\n",
      "[0.8997632599322839]\n",
      "[0.9000740652921744]\n",
      "[0.9014576547980663]\n",
      "[0.8993065219524824]\n",
      "[0.8978512411053924]\n"
     ]
    },
    {
     "name": "stderr",
     "output_type": "stream",
     "text": [
      "\u001b[32m[I 2021-12-05 01:21:55,985]\u001b[0m Trial 18 finished with value: 0.8993910552896096 and parameters: {'iterations': 323, 'depth': 8, 'learning_rate': 0.04345414855512785, 'l2_leaf_reg': 8.875071082118854, 'max_ctr_complexity': 3, 'random_strength': 49, 'bagging_temperature': 0.16549058284818846}. Best is trial 11 with value: 0.9035761295689717.\u001b[0m\n"
     ]
    },
    {
     "name": "stdout",
     "output_type": "stream",
     "text": [
      "[0.9002523460665881]\n",
      "[0.8892994902736198]\n",
      "[0.8912441098070047]\n",
      "[0.8902822759611426]\n",
      "[0.8899244046529635]\n",
      "[0.8914221563321941]\n",
      "[0.8910003880853146]\n",
      "[0.892670272490796]\n",
      "[0.8908232136994224]\n",
      "[0.8879208986160585]\n"
     ]
    },
    {
     "name": "stderr",
     "output_type": "stream",
     "text": [
      "\u001b[32m[I 2021-12-05 01:25:53,144]\u001b[0m Trial 19 finished with value: 0.8906224284557824 and parameters: {'iterations': 247, 'depth': 4, 'learning_rate': 0.011717295742002982, 'l2_leaf_reg': 6.702777469099536, 'max_ctr_complexity': 5, 'random_strength': 98, 'bagging_temperature': 1.2461429312831218}. Best is trial 11 with value: 0.9035761295689717.\u001b[0m\n"
     ]
    },
    {
     "name": "stdout",
     "output_type": "stream",
     "text": [
      "[0.8916370746393077]\n",
      "[0.8986369598840844]\n",
      "[0.899543427809972]\n",
      "[0.8992974519708745]\n",
      "[0.8985555545328219]\n",
      "[0.900076368956261]\n",
      "[0.9002577223193445]\n",
      "[0.9019533067318684]\n",
      "[0.899522974316256]\n",
      "[0.8979681180681712]\n"
     ]
    },
    {
     "name": "stderr",
     "output_type": "stream",
     "text": [
      "\u001b[32m[I 2021-12-05 01:29:30,666]\u001b[0m Trial 20 finished with value: 0.8996309861695024 and parameters: {'iterations': 122, 'depth': 8, 'learning_rate': 0.0885529564249055, 'l2_leaf_reg': 9.872596990037772, 'max_ctr_complexity': 6, 'random_strength': 63, 'bagging_temperature': 0.13378459350565755}. Best is trial 11 with value: 0.9035761295689717.\u001b[0m\n"
     ]
    },
    {
     "name": "stdout",
     "output_type": "stream",
     "text": [
      "[0.900497977105371]\n",
      "[0.9011733873904659]\n",
      "[0.9019690454941827]\n",
      "[0.9015165572582776]\n",
      "[0.9005758946751182]\n",
      "[0.9023057509053053]\n",
      "[0.9026194002248668]\n",
      "[0.9037222730469179]\n",
      "[0.9018609543704879]\n",
      "[0.9002381616965216]\n"
     ]
    },
    {
     "name": "stderr",
     "output_type": "stream",
     "text": [
      "\u001b[32m[I 2021-12-05 01:34:03,688]\u001b[0m Trial 21 finished with value: 0.9018745897561129 and parameters: {'iterations': 211, 'depth': 6, 'learning_rate': 0.09929375041920775, 'l2_leaf_reg': 7.419679047846429, 'max_ctr_complexity': 8, 'random_strength': 73, 'bagging_temperature': 0.0681445643077473}. Best is trial 11 with value: 0.9035761295689717.\u001b[0m\n"
     ]
    },
    {
     "name": "stdout",
     "output_type": "stream",
     "text": [
      "[0.9027644724989857]\n"
     ]
    }
   ],
   "source": [
    "# Run optimization\n",
    "study.optimize(objective, n_trials=20)"
   ]
  },
  {
   "cell_type": "code",
   "execution_count": 74,
   "id": "1cd10cad",
   "metadata": {
    "execution": {
     "iopub.execute_input": "2021-12-05T01:34:03.693042Z",
     "iopub.status.busy": "2021-12-05T01:34:03.692864Z",
     "iopub.status.idle": "2021-12-05T01:34:03.696728Z",
     "shell.execute_reply": "2021-12-05T01:34:03.696117Z",
     "shell.execute_reply.started": "2021-12-05T01:34:03.693023Z"
    }
   },
   "outputs": [
    {
     "name": "stdout",
     "output_type": "stream",
     "text": [
      "{'iterations': 293, 'depth': 10, 'learning_rate': 0.09902880913698733, 'l2_leaf_reg': 9.863411715860835, 'max_ctr_complexity': 5, 'random_strength': 45, 'bagging_temperature': 0.044726461496793435}\n"
     ]
    }
   ],
   "source": [
    "params = study.best_trial.params\n",
    "print(params)"
   ]
  },
  {
   "cell_type": "code",
   "execution_count": 75,
   "id": "8395292f",
   "metadata": {
    "execution": {
     "iopub.execute_input": "2021-12-05T01:34:03.697924Z",
     "iopub.status.busy": "2021-12-05T01:34:03.697768Z",
     "iopub.status.idle": "2021-12-05T01:34:04.293557Z",
     "shell.execute_reply": "2021-12-05T01:34:04.292347Z",
     "shell.execute_reply.started": "2021-12-05T01:34:03.697907Z"
    }
   },
   "outputs": [
    {
     "ename": "TypeError",
     "evalue": "object NoneType can't be used in 'await' expression",
     "output_type": "error",
     "traceback": [
      "\u001b[0;31m---------------------------------------------------------------------------\u001b[0m",
      "\u001b[0;31mTypeError\u001b[0m                                 Traceback (most recent call last)",
      "\u001b[0;32m<ipython-input-75-fee5beb66e59>\u001b[0m in \u001b[0;36m<module>\u001b[0;34m\u001b[0m\n\u001b[0;32m----> 1\u001b[0;31m \u001b[0mclient\u001b[0m\u001b[0;34m.\u001b[0m\u001b[0mshutdown\u001b[0m\u001b[0;34m(\u001b[0m\u001b[0;34m)\u001b[0m\u001b[0;34m\u001b[0m\u001b[0;34m\u001b[0m\u001b[0m\n\u001b[0m",
      "\u001b[0;32m/srv/conda/envs/saturn/lib/python3.9/site-packages/distributed/client.py\u001b[0m in \u001b[0;36mshutdown\u001b[0;34m(self)\u001b[0m\n\u001b[1;32m   1466\u001b[0m         \u001b[0mClient\u001b[0m\u001b[0;34m.\u001b[0m\u001b[0mclose\u001b[0m \u001b[0;34m:\u001b[0m \u001b[0mclose\u001b[0m \u001b[0monly\u001b[0m \u001b[0mthis\u001b[0m \u001b[0mclient\u001b[0m\u001b[0;34m\u001b[0m\u001b[0;34m\u001b[0m\u001b[0m\n\u001b[1;32m   1467\u001b[0m         \"\"\"\n\u001b[0;32m-> 1468\u001b[0;31m         \u001b[0;32mreturn\u001b[0m \u001b[0mself\u001b[0m\u001b[0;34m.\u001b[0m\u001b[0msync\u001b[0m\u001b[0;34m(\u001b[0m\u001b[0mself\u001b[0m\u001b[0;34m.\u001b[0m\u001b[0m_shutdown\u001b[0m\u001b[0;34m)\u001b[0m\u001b[0;34m\u001b[0m\u001b[0;34m\u001b[0m\u001b[0m\n\u001b[0m\u001b[1;32m   1469\u001b[0m \u001b[0;34m\u001b[0m\u001b[0m\n\u001b[1;32m   1470\u001b[0m     \u001b[0;32mdef\u001b[0m \u001b[0mget_executor\u001b[0m\u001b[0;34m(\u001b[0m\u001b[0mself\u001b[0m\u001b[0;34m,\u001b[0m \u001b[0;34m**\u001b[0m\u001b[0mkwargs\u001b[0m\u001b[0;34m)\u001b[0m\u001b[0;34m:\u001b[0m\u001b[0;34m\u001b[0m\u001b[0;34m\u001b[0m\u001b[0m\n",
      "\u001b[0;32m/srv/conda/envs/saturn/lib/python3.9/site-packages/distributed/client.py\u001b[0m in \u001b[0;36msync\u001b[0;34m(self, func, asynchronous, callback_timeout, *args, **kwargs)\u001b[0m\n\u001b[1;32m    841\u001b[0m             \u001b[0;32mreturn\u001b[0m \u001b[0mfuture\u001b[0m\u001b[0;34m\u001b[0m\u001b[0;34m\u001b[0m\u001b[0m\n\u001b[1;32m    842\u001b[0m         \u001b[0;32melse\u001b[0m\u001b[0;34m:\u001b[0m\u001b[0;34m\u001b[0m\u001b[0;34m\u001b[0m\u001b[0m\n\u001b[0;32m--> 843\u001b[0;31m             return sync(\n\u001b[0m\u001b[1;32m    844\u001b[0m                 \u001b[0mself\u001b[0m\u001b[0;34m.\u001b[0m\u001b[0mloop\u001b[0m\u001b[0;34m,\u001b[0m \u001b[0mfunc\u001b[0m\u001b[0;34m,\u001b[0m \u001b[0;34m*\u001b[0m\u001b[0margs\u001b[0m\u001b[0;34m,\u001b[0m \u001b[0mcallback_timeout\u001b[0m\u001b[0;34m=\u001b[0m\u001b[0mcallback_timeout\u001b[0m\u001b[0;34m,\u001b[0m \u001b[0;34m**\u001b[0m\u001b[0mkwargs\u001b[0m\u001b[0;34m\u001b[0m\u001b[0;34m\u001b[0m\u001b[0m\n\u001b[1;32m    845\u001b[0m             )\n",
      "\u001b[0;32m/srv/conda/envs/saturn/lib/python3.9/site-packages/distributed/utils.py\u001b[0m in \u001b[0;36msync\u001b[0;34m(loop, func, callback_timeout, *args, **kwargs)\u001b[0m\n\u001b[1;32m    351\u001b[0m     \u001b[0;32mif\u001b[0m \u001b[0merror\u001b[0m\u001b[0;34m[\u001b[0m\u001b[0;36m0\u001b[0m\u001b[0;34m]\u001b[0m\u001b[0;34m:\u001b[0m\u001b[0;34m\u001b[0m\u001b[0;34m\u001b[0m\u001b[0m\n\u001b[1;32m    352\u001b[0m         \u001b[0mtyp\u001b[0m\u001b[0;34m,\u001b[0m \u001b[0mexc\u001b[0m\u001b[0;34m,\u001b[0m \u001b[0mtb\u001b[0m \u001b[0;34m=\u001b[0m \u001b[0merror\u001b[0m\u001b[0;34m[\u001b[0m\u001b[0;36m0\u001b[0m\u001b[0;34m]\u001b[0m\u001b[0;34m\u001b[0m\u001b[0;34m\u001b[0m\u001b[0m\n\u001b[0;32m--> 353\u001b[0;31m         \u001b[0;32mraise\u001b[0m \u001b[0mexc\u001b[0m\u001b[0;34m.\u001b[0m\u001b[0mwith_traceback\u001b[0m\u001b[0;34m(\u001b[0m\u001b[0mtb\u001b[0m\u001b[0;34m)\u001b[0m\u001b[0;34m\u001b[0m\u001b[0;34m\u001b[0m\u001b[0m\n\u001b[0m\u001b[1;32m    354\u001b[0m     \u001b[0;32melse\u001b[0m\u001b[0;34m:\u001b[0m\u001b[0;34m\u001b[0m\u001b[0;34m\u001b[0m\u001b[0m\n\u001b[1;32m    355\u001b[0m         \u001b[0;32mreturn\u001b[0m \u001b[0mresult\u001b[0m\u001b[0;34m[\u001b[0m\u001b[0;36m0\u001b[0m\u001b[0;34m]\u001b[0m\u001b[0;34m\u001b[0m\u001b[0;34m\u001b[0m\u001b[0m\n",
      "\u001b[0;32m/srv/conda/envs/saturn/lib/python3.9/site-packages/distributed/utils.py\u001b[0m in \u001b[0;36mf\u001b[0;34m()\u001b[0m\n\u001b[1;32m    334\u001b[0m             \u001b[0;32mif\u001b[0m \u001b[0mcallback_timeout\u001b[0m \u001b[0;32mis\u001b[0m \u001b[0;32mnot\u001b[0m \u001b[0;32mNone\u001b[0m\u001b[0;34m:\u001b[0m\u001b[0;34m\u001b[0m\u001b[0;34m\u001b[0m\u001b[0m\n\u001b[1;32m    335\u001b[0m                 \u001b[0mfuture\u001b[0m \u001b[0;34m=\u001b[0m \u001b[0masyncio\u001b[0m\u001b[0;34m.\u001b[0m\u001b[0mwait_for\u001b[0m\u001b[0;34m(\u001b[0m\u001b[0mfuture\u001b[0m\u001b[0;34m,\u001b[0m \u001b[0mcallback_timeout\u001b[0m\u001b[0;34m)\u001b[0m\u001b[0;34m\u001b[0m\u001b[0;34m\u001b[0m\u001b[0m\n\u001b[0;32m--> 336\u001b[0;31m             \u001b[0mresult\u001b[0m\u001b[0;34m[\u001b[0m\u001b[0;36m0\u001b[0m\u001b[0;34m]\u001b[0m \u001b[0;34m=\u001b[0m \u001b[0;32myield\u001b[0m \u001b[0mfuture\u001b[0m\u001b[0;34m\u001b[0m\u001b[0;34m\u001b[0m\u001b[0m\n\u001b[0m\u001b[1;32m    337\u001b[0m         \u001b[0;32mexcept\u001b[0m \u001b[0mException\u001b[0m \u001b[0;32mas\u001b[0m \u001b[0mexc\u001b[0m\u001b[0;34m:\u001b[0m\u001b[0;34m\u001b[0m\u001b[0;34m\u001b[0m\u001b[0m\n\u001b[1;32m    338\u001b[0m             \u001b[0merror\u001b[0m\u001b[0;34m[\u001b[0m\u001b[0;36m0\u001b[0m\u001b[0;34m]\u001b[0m \u001b[0;34m=\u001b[0m \u001b[0msys\u001b[0m\u001b[0;34m.\u001b[0m\u001b[0mexc_info\u001b[0m\u001b[0;34m(\u001b[0m\u001b[0;34m)\u001b[0m\u001b[0;34m\u001b[0m\u001b[0;34m\u001b[0m\u001b[0m\n",
      "\u001b[0;32m/srv/conda/envs/saturn/lib/python3.9/site-packages/tornado/gen.py\u001b[0m in \u001b[0;36mrun\u001b[0;34m(self)\u001b[0m\n\u001b[1;32m    760\u001b[0m \u001b[0;34m\u001b[0m\u001b[0m\n\u001b[1;32m    761\u001b[0m                     \u001b[0;32mtry\u001b[0m\u001b[0;34m:\u001b[0m\u001b[0;34m\u001b[0m\u001b[0;34m\u001b[0m\u001b[0m\n\u001b[0;32m--> 762\u001b[0;31m                         \u001b[0mvalue\u001b[0m \u001b[0;34m=\u001b[0m \u001b[0mfuture\u001b[0m\u001b[0;34m.\u001b[0m\u001b[0mresult\u001b[0m\u001b[0;34m(\u001b[0m\u001b[0;34m)\u001b[0m\u001b[0;34m\u001b[0m\u001b[0;34m\u001b[0m\u001b[0m\n\u001b[0m\u001b[1;32m    763\u001b[0m                     \u001b[0;32mexcept\u001b[0m \u001b[0mException\u001b[0m\u001b[0;34m:\u001b[0m\u001b[0;34m\u001b[0m\u001b[0;34m\u001b[0m\u001b[0m\n\u001b[1;32m    764\u001b[0m                         \u001b[0mexc_info\u001b[0m \u001b[0;34m=\u001b[0m \u001b[0msys\u001b[0m\u001b[0;34m.\u001b[0m\u001b[0mexc_info\u001b[0m\u001b[0;34m(\u001b[0m\u001b[0;34m)\u001b[0m\u001b[0;34m\u001b[0m\u001b[0;34m\u001b[0m\u001b[0m\n",
      "\u001b[0;32m/srv/conda/envs/saturn/lib/python3.9/site-packages/distributed/client.py\u001b[0m in \u001b[0;36m_shutdown\u001b[0;34m(self)\u001b[0m\n\u001b[1;32m   1450\u001b[0m         \u001b[0mlogger\u001b[0m\u001b[0;34m.\u001b[0m\u001b[0minfo\u001b[0m\u001b[0;34m(\u001b[0m\u001b[0;34m\"Shutting down scheduler from Client\"\u001b[0m\u001b[0;34m)\u001b[0m\u001b[0;34m\u001b[0m\u001b[0;34m\u001b[0m\u001b[0m\n\u001b[1;32m   1451\u001b[0m         \u001b[0;32mif\u001b[0m \u001b[0mself\u001b[0m\u001b[0;34m.\u001b[0m\u001b[0mcluster\u001b[0m\u001b[0;34m:\u001b[0m\u001b[0;34m\u001b[0m\u001b[0;34m\u001b[0m\u001b[0m\n\u001b[0;32m-> 1452\u001b[0;31m             \u001b[0;32mawait\u001b[0m \u001b[0mself\u001b[0m\u001b[0;34m.\u001b[0m\u001b[0mcluster\u001b[0m\u001b[0;34m.\u001b[0m\u001b[0mclose\u001b[0m\u001b[0;34m(\u001b[0m\u001b[0;34m)\u001b[0m\u001b[0;34m\u001b[0m\u001b[0;34m\u001b[0m\u001b[0m\n\u001b[0m\u001b[1;32m   1453\u001b[0m         \u001b[0;32melse\u001b[0m\u001b[0;34m:\u001b[0m\u001b[0;34m\u001b[0m\u001b[0;34m\u001b[0m\u001b[0m\n\u001b[1;32m   1454\u001b[0m             \u001b[0;32mwith\u001b[0m \u001b[0msuppress\u001b[0m\u001b[0;34m(\u001b[0m\u001b[0mCommClosedError\u001b[0m\u001b[0;34m)\u001b[0m\u001b[0;34m:\u001b[0m\u001b[0;34m\u001b[0m\u001b[0;34m\u001b[0m\u001b[0m\n",
      "\u001b[0;31mTypeError\u001b[0m: object NoneType can't be used in 'await' expression"
     ]
    }
   ],
   "source": [
    "client.shutdown()"
   ]
  },
  {
   "cell_type": "code",
   "execution_count": null,
   "id": "acaa6c3b",
   "metadata": {},
   "outputs": [],
   "source": []
  }
 ],
 "metadata": {
  "kernelspec": {
   "display_name": "saturn (Python 3)",
   "language": "python",
   "name": "python3"
  },
  "language_info": {
   "codemirror_mode": {
    "name": "ipython",
    "version": 3
   },
   "file_extension": ".py",
   "mimetype": "text/x-python",
   "name": "python",
   "nbconvert_exporter": "python",
   "pygments_lexer": "ipython3",
   "version": "3.9.5"
  }
 },
 "nbformat": 4,
 "nbformat_minor": 5
}
