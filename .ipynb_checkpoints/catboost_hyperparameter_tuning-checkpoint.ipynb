{
 "cells": [
  {
   "cell_type": "markdown",
   "id": "b3d45670",
   "metadata": {},
   "source": [
    "In this notebook, we are using dask clusters hosted on Saturn Cloud to spin up multiple GPUs to speed up training.\n",
    "The code chunks below will hyperparameter search, final model building and cross validation processes.\n",
    "We will be parallelizing hyperparameter search with 10 fold cross validation folds across multiple GPU workers.\n",
    "\n",
    "We will be using GBDT classifier from Catboost to train this binary classification model. Since all of our features are categorial, catboost would be ideal for the following reasons:\n",
    "     1. Catboost handles categorical features automatically.\n",
    "     2. It converts categorical features to numeric using various statistics derived from combination of multiple\n",
    "     categorical features.\n",
    "     3. One-hot encodiing is used for categorical features by default\n",
    "     4. It can train models on the GPU using native package which makes training on large datasets much faster\n",
    "     "
   ]
  },
  {
   "cell_type": "code",
   "execution_count": 1,
   "id": "113f63a7",
   "metadata": {
    "execution": {
     "iopub.execute_input": "2021-12-04T22:59:19.172193Z",
     "iopub.status.busy": "2021-12-04T22:59:19.171901Z",
     "iopub.status.idle": "2021-12-04T22:59:19.962611Z",
     "shell.execute_reply": "2021-12-04T22:59:19.961940Z",
     "shell.execute_reply.started": "2021-12-04T22:59:19.172130Z"
    }
   },
   "outputs": [
    {
     "name": "stderr",
     "output_type": "stream",
     "text": [
      "INFO:dask-saturn:Cluster is ready\n",
      "INFO:dask-saturn:Registering default plugins\n",
      "INFO:dask-saturn:Success!\n"
     ]
    },
    {
     "data": {
      "text/html": [
       "<table style=\"border: 2px solid white;\">\n",
       "<tr>\n",
       "<td style=\"vertical-align: top; border: 0px solid white\">\n",
       "<h3 style=\"text-align: left;\">Client</h3>\n",
       "<ul style=\"text-align: left; list-style: none; margin: 0; padding: 0;\">\n",
       "  <li><b>Scheduler: </b>tcp://d-dkark-dinesh-ml-e7cccc4d496b430cbdc6b8eb801eab0c.main-namespace:8786</li>\n",
       "  <li><b>Dashboard: </b><a href='https://d-dkark-dinesh-ml-e7cccc4d496b430cbdc6b8eb801eab0c.community.saturnenterprise.io' target='_blank'>https://d-dkark-dinesh-ml-e7cccc4d496b430cbdc6b8eb801eab0c.community.saturnenterprise.io</a></li>\n",
       "</ul>\n",
       "</td>\n",
       "<td style=\"vertical-align: top; border: 0px solid white\">\n",
       "<h3 style=\"text-align: left;\">Cluster</h3>\n",
       "<ul style=\"text-align: left; list-style:none; margin: 0; padding: 0;\">\n",
       "  <li><b>Workers: </b>3</li>\n",
       "  <li><b>Cores: </b>12</li>\n",
       "  <li><b>Memory: </b>43.31 GiB</li>\n",
       "</ul>\n",
       "</td>\n",
       "</tr>\n",
       "</table>"
      ],
      "text/plain": [
       "<Client: 'tcp://192.168.218.144:8786' processes=3 threads=12, memory=43.31 GiB>"
      ]
     },
     "execution_count": 1,
     "metadata": {},
     "output_type": "execute_result"
    }
   ],
   "source": [
    "# import dask libraries to connect to dask clusters on saturn cloud\n",
    "from dask_saturn import SaturnCluster\n",
    "from dask.distributed import Client\n",
    "\n",
    "cluster = SaturnCluster()\n",
    "client = Client(cluster)\n",
    "client"
   ]
  },
  {
   "cell_type": "code",
   "execution_count": null,
   "id": "8e659b65",
   "metadata": {
    "execution": {
     "iopub.execute_input": "2021-12-05T17:18:02.373845Z",
     "iopub.status.busy": "2021-12-05T17:18:02.373585Z",
     "iopub.status.idle": "2021-12-05T17:18:10.964354Z",
     "shell.execute_reply": "2021-12-05T17:18:10.963668Z",
     "shell.execute_reply.started": "2021-12-05T17:18:02.373822Z"
    }
   },
   "outputs": [],
   "source": [
    "# install packages not available in the image\n",
    "\n",
    "!pip install -q scikit-learn optuna"
   ]
  },
  {
   "cell_type": "markdown",
   "id": "d3970a39",
   "metadata": {
    "execution": {
     "iopub.execute_input": "2021-12-05T19:13:45.335337Z",
     "iopub.status.busy": "2021-12-05T19:13:45.335108Z",
     "iopub.status.idle": "2021-12-05T19:13:45.339629Z",
     "shell.execute_reply": "2021-12-05T19:13:45.338904Z",
     "shell.execute_reply.started": "2021-12-05T19:13:45.335315Z"
    }
   },
   "source": [
    "As we can see we have 3 workers available (due to resource restrictions) although 10 workers would be preferable given we will be interating over 10 folds. It is much faster to use 3 GPU workers than a single machine."
   ]
  },
  {
   "cell_type": "code",
   "execution_count": 14,
   "id": "582c92b3",
   "metadata": {
    "execution": {
     "iopub.execute_input": "2021-12-05T17:18:24.635556Z",
     "iopub.status.busy": "2021-12-05T17:18:24.635320Z",
     "iopub.status.idle": "2021-12-05T17:18:27.092512Z",
     "shell.execute_reply": "2021-12-05T17:18:27.091929Z",
     "shell.execute_reply.started": "2021-12-05T17:18:24.635531Z"
    }
   },
   "outputs": [],
   "source": [
    "# import relevant packages\n",
    "import pandas as pd\n",
    "import numpy as np\n",
    "\n",
    "from sklearn.model_selection import train_test_split\n",
    "from sklearn.model_selection import KFold\n",
    "from sklearn.metrics import roc_auc_score\n",
    "from catboost import CatBoostClassifier, Pool\n",
    "from catboost.utils import eval_metric\n",
    "\n",
    "import optuna\n",
    "from optuna.samplers import TPESampler\n"
   ]
  },
  {
   "cell_type": "markdown",
   "id": "d6cc4eaf",
   "metadata": {},
   "source": [
    "We have saved the imputed dataframe from the first stage that we will be using to build a binary classification model"
   ]
  },
  {
   "cell_type": "code",
   "execution_count": 99,
   "id": "bf953fc4",
   "metadata": {
    "execution": {
     "iopub.execute_input": "2021-12-05T19:15:13.125243Z",
     "iopub.status.busy": "2021-12-05T19:15:13.125018Z",
     "iopub.status.idle": "2021-12-05T19:15:14.062597Z",
     "shell.execute_reply": "2021-12-05T19:15:14.062016Z",
     "shell.execute_reply.started": "2021-12-05T19:15:13.125221Z"
    }
   },
   "outputs": [
    {
     "data": {
      "text/html": [
       "<div>\n",
       "<style scoped>\n",
       "    .dataframe tbody tr th:only-of-type {\n",
       "        vertical-align: middle;\n",
       "    }\n",
       "\n",
       "    .dataframe tbody tr th {\n",
       "        vertical-align: top;\n",
       "    }\n",
       "\n",
       "    .dataframe thead th {\n",
       "        text-align: right;\n",
       "    }\n",
       "</style>\n",
       "<table border=\"1\" class=\"dataframe\">\n",
       "  <thead>\n",
       "    <tr style=\"text-align: right;\">\n",
       "      <th></th>\n",
       "      <th>primary_type</th>\n",
       "      <th>location_description</th>\n",
       "      <th>district</th>\n",
       "      <th>ward</th>\n",
       "      <th>domestic</th>\n",
       "      <th>arrest</th>\n",
       "      <th>year</th>\n",
       "      <th>month</th>\n",
       "      <th>day</th>\n",
       "      <th>weekday</th>\n",
       "      <th>hour</th>\n",
       "    </tr>\n",
       "  </thead>\n",
       "  <tbody>\n",
       "    <tr>\n",
       "      <th>0</th>\n",
       "      <td>BATTERY</td>\n",
       "      <td>STREET</td>\n",
       "      <td>2.0</td>\n",
       "      <td>3.0</td>\n",
       "      <td>False</td>\n",
       "      <td>False</td>\n",
       "      <td>2005.0</td>\n",
       "      <td>1.0</td>\n",
       "      <td>1.0</td>\n",
       "      <td>5.0</td>\n",
       "      <td>1.0</td>\n",
       "    </tr>\n",
       "    <tr>\n",
       "      <th>1</th>\n",
       "      <td>WEAPONS VIOLATION</td>\n",
       "      <td>RESIDENCE</td>\n",
       "      <td>5.0</td>\n",
       "      <td>9.0</td>\n",
       "      <td>False</td>\n",
       "      <td>False</td>\n",
       "      <td>2005.0</td>\n",
       "      <td>1.0</td>\n",
       "      <td>1.0</td>\n",
       "      <td>5.0</td>\n",
       "      <td>1.0</td>\n",
       "    </tr>\n",
       "    <tr>\n",
       "      <th>2</th>\n",
       "      <td>CRIMINAL DAMAGE</td>\n",
       "      <td>CHURCH / SYNAGOGUE / PLACE OF WORSHIP</td>\n",
       "      <td>2.0</td>\n",
       "      <td>3.0</td>\n",
       "      <td>False</td>\n",
       "      <td>False</td>\n",
       "      <td>2005.0</td>\n",
       "      <td>1.0</td>\n",
       "      <td>1.0</td>\n",
       "      <td>5.0</td>\n",
       "      <td>1.0</td>\n",
       "    </tr>\n",
       "    <tr>\n",
       "      <th>3</th>\n",
       "      <td>THEFT</td>\n",
       "      <td>DEPARTMENT STORE</td>\n",
       "      <td>1.0</td>\n",
       "      <td>42.0</td>\n",
       "      <td>False</td>\n",
       "      <td>True</td>\n",
       "      <td>2005.0</td>\n",
       "      <td>1.0</td>\n",
       "      <td>1.0</td>\n",
       "      <td>5.0</td>\n",
       "      <td>1.0</td>\n",
       "    </tr>\n",
       "    <tr>\n",
       "      <th>4</th>\n",
       "      <td>THEFT</td>\n",
       "      <td>BAR OR TAVERN</td>\n",
       "      <td>18.0</td>\n",
       "      <td>42.0</td>\n",
       "      <td>False</td>\n",
       "      <td>False</td>\n",
       "      <td>2005.0</td>\n",
       "      <td>1.0</td>\n",
       "      <td>1.0</td>\n",
       "      <td>5.0</td>\n",
       "      <td>1.0</td>\n",
       "    </tr>\n",
       "    <tr>\n",
       "      <th>...</th>\n",
       "      <td>...</td>\n",
       "      <td>...</td>\n",
       "      <td>...</td>\n",
       "      <td>...</td>\n",
       "      <td>...</td>\n",
       "      <td>...</td>\n",
       "      <td>...</td>\n",
       "      <td>...</td>\n",
       "      <td>...</td>\n",
       "      <td>...</td>\n",
       "      <td>...</td>\n",
       "    </tr>\n",
       "    <tr>\n",
       "      <th>999995</th>\n",
       "      <td>OTHER OFFENSE</td>\n",
       "      <td>STREET</td>\n",
       "      <td>2.0</td>\n",
       "      <td>3.0</td>\n",
       "      <td>False</td>\n",
       "      <td>False</td>\n",
       "      <td>2008.0</td>\n",
       "      <td>12.0</td>\n",
       "      <td>31.0</td>\n",
       "      <td>2.0</td>\n",
       "      <td>12.0</td>\n",
       "    </tr>\n",
       "    <tr>\n",
       "      <th>999996</th>\n",
       "      <td>BATTERY</td>\n",
       "      <td>STREET</td>\n",
       "      <td>1.0</td>\n",
       "      <td>42.0</td>\n",
       "      <td>True</td>\n",
       "      <td>False</td>\n",
       "      <td>2008.0</td>\n",
       "      <td>12.0</td>\n",
       "      <td>31.0</td>\n",
       "      <td>2.0</td>\n",
       "      <td>12.0</td>\n",
       "    </tr>\n",
       "    <tr>\n",
       "      <th>999997</th>\n",
       "      <td>MOTOR VEHICLE THEFT</td>\n",
       "      <td>STREET</td>\n",
       "      <td>7.0</td>\n",
       "      <td>17.0</td>\n",
       "      <td>False</td>\n",
       "      <td>False</td>\n",
       "      <td>2008.0</td>\n",
       "      <td>12.0</td>\n",
       "      <td>31.0</td>\n",
       "      <td>2.0</td>\n",
       "      <td>12.0</td>\n",
       "    </tr>\n",
       "    <tr>\n",
       "      <th>999998</th>\n",
       "      <td>BURGLARY</td>\n",
       "      <td>RESIDENCE</td>\n",
       "      <td>6.0</td>\n",
       "      <td>17.0</td>\n",
       "      <td>False</td>\n",
       "      <td>False</td>\n",
       "      <td>2008.0</td>\n",
       "      <td>12.0</td>\n",
       "      <td>31.0</td>\n",
       "      <td>2.0</td>\n",
       "      <td>12.0</td>\n",
       "    </tr>\n",
       "    <tr>\n",
       "      <th>999999</th>\n",
       "      <td>BATTERY</td>\n",
       "      <td>RESIDENCE</td>\n",
       "      <td>6.0</td>\n",
       "      <td>6.0</td>\n",
       "      <td>True</td>\n",
       "      <td>False</td>\n",
       "      <td>2008.0</td>\n",
       "      <td>12.0</td>\n",
       "      <td>31.0</td>\n",
       "      <td>2.0</td>\n",
       "      <td>12.0</td>\n",
       "    </tr>\n",
       "  </tbody>\n",
       "</table>\n",
       "<p>1000000 rows × 11 columns</p>\n",
       "</div>"
      ],
      "text/plain": [
       "               primary_type                   location_description  district  \\\n",
       "0                   BATTERY                                 STREET       2.0   \n",
       "1         WEAPONS VIOLATION                              RESIDENCE       5.0   \n",
       "2           CRIMINAL DAMAGE  CHURCH / SYNAGOGUE / PLACE OF WORSHIP       2.0   \n",
       "3                     THEFT                       DEPARTMENT STORE       1.0   \n",
       "4                     THEFT                          BAR OR TAVERN      18.0   \n",
       "...                     ...                                    ...       ...   \n",
       "999995        OTHER OFFENSE                                 STREET       2.0   \n",
       "999996              BATTERY                                 STREET       1.0   \n",
       "999997  MOTOR VEHICLE THEFT                                 STREET       7.0   \n",
       "999998             BURGLARY                              RESIDENCE       6.0   \n",
       "999999              BATTERY                              RESIDENCE       6.0   \n",
       "\n",
       "        ward  domestic  arrest    year  month   day  weekday  hour  \n",
       "0        3.0     False   False  2005.0    1.0   1.0      5.0   1.0  \n",
       "1        9.0     False   False  2005.0    1.0   1.0      5.0   1.0  \n",
       "2        3.0     False   False  2005.0    1.0   1.0      5.0   1.0  \n",
       "3       42.0     False    True  2005.0    1.0   1.0      5.0   1.0  \n",
       "4       42.0     False   False  2005.0    1.0   1.0      5.0   1.0  \n",
       "...      ...       ...     ...     ...    ...   ...      ...   ...  \n",
       "999995   3.0     False   False  2008.0   12.0  31.0      2.0  12.0  \n",
       "999996  42.0      True   False  2008.0   12.0  31.0      2.0  12.0  \n",
       "999997  17.0     False   False  2008.0   12.0  31.0      2.0  12.0  \n",
       "999998  17.0     False   False  2008.0   12.0  31.0      2.0  12.0  \n",
       "999999   6.0      True   False  2008.0   12.0  31.0      2.0  12.0  \n",
       "\n",
       "[1000000 rows x 11 columns]"
      ]
     },
     "execution_count": 99,
     "metadata": {},
     "output_type": "execute_result"
    }
   ],
   "source": [
    "# read the crime data file with imputed values from the first stage\n",
    "model_df = pd.read_csv(\"imputed_df.csv\", index_col=0)\n",
    "model_df"
   ]
  },
  {
   "cell_type": "markdown",
   "id": "3fbee438",
   "metadata": {},
   "source": [
    "Now we will doing some pre-processing to build train and test sets using train_test_split.\n",
    "We are stratifyinig by the target column to make sure our target is balanced across train and test splits."
   ]
  },
  {
   "cell_type": "code",
   "execution_count": 19,
   "id": "e0c57408",
   "metadata": {
    "execution": {
     "iopub.execute_input": "2021-12-05T17:21:16.420457Z",
     "iopub.status.busy": "2021-12-05T17:21:16.420223Z",
     "iopub.status.idle": "2021-12-05T17:21:16.738293Z",
     "shell.execute_reply": "2021-12-05T17:21:16.737638Z",
     "shell.execute_reply.started": "2021-12-05T17:21:16.420434Z"
    }
   },
   "outputs": [],
   "source": [
    "X = model_df.drop('arrest', axis = 1)\n",
    "y = model_df.arrest.apply(lambda x: 1 if x else 0)"
   ]
  },
  {
   "cell_type": "code",
   "execution_count": 20,
   "id": "58959d42",
   "metadata": {
    "execution": {
     "iopub.execute_input": "2021-12-05T17:21:18.891371Z",
     "iopub.status.busy": "2021-12-05T17:21:18.891132Z",
     "iopub.status.idle": "2021-12-05T17:21:18.981139Z",
     "shell.execute_reply": "2021-12-05T17:21:18.980483Z",
     "shell.execute_reply.started": "2021-12-05T17:21:18.891346Z"
    }
   },
   "outputs": [],
   "source": [
    "X['district'] = X['district'].astype(np.int64)\n",
    "X['ward'] = X['ward'].astype(np.int64)\n",
    "X['year'] = X['year'].astype(np.int64)\n",
    "X['month'] = X['month'].astype(np.int64)\n",
    "X['day'] = X['day'].astype(np.int64)\n",
    "X['weekday'] = X['weekday'].astype(np.int64)\n",
    "X['hour'] = X['hour'].astype(np.int64)"
   ]
  },
  {
   "cell_type": "code",
   "execution_count": 21,
   "id": "6052e390",
   "metadata": {
    "execution": {
     "iopub.execute_input": "2021-12-05T17:21:21.583662Z",
     "iopub.status.busy": "2021-12-05T17:21:21.583437Z",
     "iopub.status.idle": "2021-12-05T17:21:22.024381Z",
     "shell.execute_reply": "2021-12-05T17:21:22.023823Z",
     "shell.execute_reply.started": "2021-12-05T17:21:21.583640Z"
    }
   },
   "outputs": [],
   "source": [
    "# Split data into training and test sets\n",
    "X_train, X_test, y_train, y_test = train_test_split(X, \n",
    "                                                    y, \n",
    "                                                    stratify=y,\n",
    "                                                    test_size=0.25,\n",
    "                                                    random_state=21)"
   ]
  },
  {
   "cell_type": "markdown",
   "id": "560f2801",
   "metadata": {},
   "source": [
    "We should compare the distribution of target values next:"
   ]
  },
  {
   "cell_type": "code",
   "execution_count": 100,
   "id": "dda1efde",
   "metadata": {
    "execution": {
     "iopub.execute_input": "2021-12-05T19:20:54.722588Z",
     "iopub.status.busy": "2021-12-05T19:20:54.722345Z",
     "iopub.status.idle": "2021-12-05T19:20:54.731962Z",
     "shell.execute_reply": "2021-12-05T19:20:54.731282Z",
     "shell.execute_reply.started": "2021-12-05T19:20:54.722564Z"
    }
   },
   "outputs": [
    {
     "data": {
      "text/plain": [
       "0    706652\n",
       "1    293348\n",
       "Name: arrest, dtype: int64"
      ]
     },
     "execution_count": 100,
     "metadata": {},
     "output_type": "execute_result"
    }
   ],
   "source": [
    "y.value_counts()"
   ]
  },
  {
   "cell_type": "markdown",
   "id": "2806ff27",
   "metadata": {},
   "source": [
    "Let's look at the distribution of training target values -- well, the proportion looks fine compared to the full dataset"
   ]
  },
  {
   "cell_type": "code",
   "execution_count": 22,
   "id": "d949deb9",
   "metadata": {
    "execution": {
     "iopub.execute_input": "2021-12-05T17:21:25.029888Z",
     "iopub.status.busy": "2021-12-05T17:21:25.029603Z",
     "iopub.status.idle": "2021-12-05T17:21:25.039768Z",
     "shell.execute_reply": "2021-12-05T17:21:25.039084Z",
     "shell.execute_reply.started": "2021-12-05T17:21:25.029864Z"
    }
   },
   "outputs": [
    {
     "data": {
      "text/plain": [
       "0    529989\n",
       "1    220011\n",
       "Name: arrest, dtype: int64"
      ]
     },
     "execution_count": 22,
     "metadata": {},
     "output_type": "execute_result"
    }
   ],
   "source": [
    "y_train.value_counts()"
   ]
  },
  {
   "cell_type": "markdown",
   "id": "1361cfcb",
   "metadata": {},
   "source": [
    "We will now scatter large dataframes into distributed memory as futures so that data is readily available for the workers to fetch"
   ]
  },
  {
   "cell_type": "code",
   "execution_count": 53,
   "id": "0296ff21",
   "metadata": {
    "execution": {
     "iopub.execute_input": "2021-12-04T23:27:59.150950Z",
     "iopub.status.busy": "2021-12-04T23:27:59.150766Z",
     "iopub.status.idle": "2021-12-04T23:28:00.943684Z",
     "shell.execute_reply": "2021-12-04T23:28:00.943110Z",
     "shell.execute_reply.started": "2021-12-04T23:27:59.150930Z"
    }
   },
   "outputs": [],
   "source": [
    "# create dask futures for features and target dataframes\n",
    "X_train_f, y_train_f = client.scatter([X_train, y_train])"
   ]
  },
  {
   "cell_type": "markdown",
   "id": "0c1a3aea",
   "metadata": {},
   "source": [
    "The function below will fit the Catboost Classifier model using Logloss as loss function and AUC as evaluation metric which acts as the overfitting detector. As a base parameter, we will be using early_stopping_rounds of 50 which will trigger overfitting detector and stops the training after 50 iteratiions of no improvement in the evaluation metric i.e AUC for the eval_set. We will set the task_type to GPU for training on GPU.\n",
    "\n",
    "The function will take the train and val indices corresponding to one of the folds as inputs and return the eval metric for that fold"
   ]
  },
  {
   "cell_type": "code",
   "execution_count": null,
   "id": "e86e738a",
   "metadata": {
    "execution": {
     "iopub.execute_input": "2021-12-04T23:34:01.729209Z",
     "iopub.status.busy": "2021-12-04T23:34:01.728961Z",
     "iopub.status.idle": "2021-12-04T23:34:01.734307Z",
     "shell.execute_reply": "2021-12-04T23:34:01.733574Z",
     "shell.execute_reply.started": "2021-12-04T23:34:01.729185Z"
    }
   },
   "outputs": [],
   "source": [
    "# functioin to fit the model with parameters from search space\n",
    "def fit_reg(train_idx, val_idx, train_x, train_y, cat_cols, params):\n",
    "      train_x, val_x = X_train.iloc[train_idx], X_train.iloc[val_idx]\n",
    "      train_y, val_y = y_train.iloc[train_idx], y_train.iloc[val_idx]\n",
    "\n",
    "      cat_cols = X_train.columns.values.tolist()\n",
    "\n",
    "      train_pool = Pool(data = train_x,\n",
    "                  label = train_y,\n",
    "                  cat_features = cat_cols)\n",
    "\n",
    "      val_pool = Pool(data = val_x,\n",
    "                    label = val_y,\n",
    "                    cat_features = cat_cols)\n",
    "\n",
    "      model = CatBoostClassifier(\n",
    "          **params,\n",
    "          loss_function= 'Logloss',\n",
    "          eval_metric='AUC',\n",
    "          task_type='GPU',\n",
    "          early_stopping_rounds=50,\n",
    "          random_seed=21,\n",
    "          )\n",
    "    \n",
    "      model.fit(train_pool, \n",
    "                eval_set=val_pool,\n",
    "                verbose=0)\n",
    "      y_preds = model.predict_proba(val_pool)\n",
    "      return eval_metric(val_pool.get_label(), y_preds[:,1], 'AUC')\n",
    "      #return roc_auc_score(val_y, y_preds)\n",
    "  "
   ]
  },
  {
   "cell_type": "markdown",
   "id": "84daffc6",
   "metadata": {},
   "source": [
    "The following Objective function will be used as the objective function for the hyperparameter tuning algorithm with Optuna. We will be using TPESampler as our sampler which is a Bayesian optimization approach that uses Gaussian Mixture Models(GMM).\n",
    "\n",
    "The candidates for parameter search are selected carefully in order to avoid overfitting or underfitting and achieve speed of computation. We will be searching for optimal parameters for the following:\n",
    "    1. iterations : sets number of trees (speed and overfitting)\n",
    "    2. depth: depth of the tree (optimizing speed)\n",
    "    3. learning_rate: reducing gradient step (time of training)\n",
    "    4. l2_leaf_reg: coefficient of l2 regularization of loss function (overfitting)\n",
    "    5. max_ctr_complexity: max # of features to be combined (idead for categorical features)\n",
    "    6. random_strength: randomness added while scoring splits/ avoids overfitting\n",
    "    7. bagging_temperature: used in bayesian bootstrap to assign random weights to objects\n",
    "\n",
    "We will create k fold training and validation splits and submit the fit_reg function with futures and other variables the workers. We will gather result from each worker and append the AUC score to an array. The objective function will return the mean AUC metric for 10 folds in every trial that the hyperparameter search algorithm will try to maximize."
   ]
  },
  {
   "cell_type": "code",
   "execution_count": 70,
   "id": "6dd11a24",
   "metadata": {
    "execution": {
     "iopub.execute_input": "2021-12-04T23:39:22.267219Z",
     "iopub.status.busy": "2021-12-04T23:39:22.266977Z",
     "iopub.status.idle": "2021-12-04T23:39:22.272937Z",
     "shell.execute_reply": "2021-12-04T23:39:22.272184Z",
     "shell.execute_reply.started": "2021-12-04T23:39:22.267197Z"
    }
   },
   "outputs": [],
   "source": [
    "# Objective function\n",
    "def objective(trial):\n",
    "    params = {\n",
    "        'iterations': trial.suggest_int('iterations', 50, 500),\n",
    "        'depth': trial.suggest_int('depth', 3, 10),\n",
    "        'learning_rate': trial.suggest_loguniform('learning_rate', 0.01, 0.1),\n",
    "        'l2_leaf_reg': trial.suggest_float('l2_leaf_reg', 1, 10),\n",
    "        'max_ctr_complexity': trial.suggest_int('max_ctr_complexity', 0, 8),\n",
    "        'random_strength': trial.suggest_int('random_strength', 0, 100),\n",
    "        'bagging_temperature': trial.suggest_loguniform('bagging_temperature', 0.01, 100.00),\n",
    "    }\n",
    "    \n",
    "    cat_cols = X_train.columns.values.tolist()\n",
    "    \n",
    "    kf = KFold(n_splits=10, random_state=21, shuffle=True)\n",
    "    scores = []\n",
    "\n",
    "    for train_idx, val_idx in kf.split(X_train):\n",
    "      result = client.submit(fit_reg, train_idx, val_idx, X_train_f, y_train_f, cat_cols, params)\n",
    "      score = client.gather(result)\n",
    "      scores.append(score)\n",
    "\n",
    "    return np.mean(scores)\n"
   ]
  },
  {
   "cell_type": "markdown",
   "id": "cb5bceec",
   "metadata": {},
   "source": [
    "Now lets test if the above parallelization works fine with 2 trails.\n",
    "We create an optuna study with direction set to maximize and run the optimization using the objective function defined above.\n",
    "\n",
    "In each trial, it will return the mean AUC metric for 10 folds and the hyperparameter values used."
   ]
  },
  {
   "cell_type": "code",
   "execution_count": 71,
   "id": "d3844c15",
   "metadata": {
    "execution": {
     "iopub.execute_input": "2021-12-04T23:39:24.951853Z",
     "iopub.status.busy": "2021-12-04T23:39:24.951625Z",
     "iopub.status.idle": "2021-12-04T23:45:41.463803Z",
     "shell.execute_reply": "2021-12-04T23:45:41.463069Z",
     "shell.execute_reply.started": "2021-12-04T23:39:24.951831Z"
    }
   },
   "outputs": [
    {
     "name": "stderr",
     "output_type": "stream",
     "text": [
      "\u001b[32m[I 2021-12-04 23:39:24,953]\u001b[0m A new study created in memory with name: no-name-91c856a7-4d38-40ef-b88c-510501eb4b6a\u001b[0m\n"
     ]
    },
    {
     "name": "stdout",
     "output_type": "stream",
     "text": [
      "[0.8822942820490333]\n",
      "[0.8860948296898893]\n",
      "[0.8837665439758037]\n",
      "[0.8833926371325325]\n",
      "[0.8858184499041227]\n",
      "[0.8850700331292951]\n",
      "[0.8867382604521217]\n",
      "[0.8838457248995057]\n",
      "[0.881783118059049]\n"
     ]
    },
    {
     "name": "stderr",
     "output_type": "stream",
     "text": [
      "\u001b[32m[I 2021-12-04 23:39:56,618]\u001b[0m Trial 0 finished with value: 0.884491967761954 and parameters: {'iterations': 71, 'depth': 5, 'learning_rate': 0.05259765072681896, 'l2_leaf_reg': 1.1945462492435481, 'max_ctr_complexity': 1, 'random_strength': 5, 'bagging_temperature': 0.16184063577845234}. Best is trial 0 with value: 0.884491967761954.\u001b[0m\n"
     ]
    },
    {
     "name": "stdout",
     "output_type": "stream",
     "text": [
      "[0.8861157983281878]\n",
      "[0.8997025552862772]\n",
      "[0.9005105391985607]\n",
      "[0.8999762494773915]\n",
      "[0.8993866475301515]\n",
      "[0.9009166195144634]\n",
      "[0.9013334567596435]\n",
      "[0.9025292279095771]\n",
      "[0.9007857510217169]\n",
      "[0.898742410585051]\n"
     ]
    },
    {
     "name": "stderr",
     "output_type": "stream",
     "text": [
      "\u001b[32m[I 2021-12-04 23:45:41,459]\u001b[0m Trial 1 finished with value: 0.9005266370004759 and parameters: {'iterations': 349, 'depth': 5, 'learning_rate': 0.03833463003091129, 'l2_leaf_reg': 1.626138591513405, 'max_ctr_complexity': 7, 'random_strength': 13, 'bagging_temperature': 0.051582055717860724}. Best is trial 1 with value: 0.9005266370004759.\u001b[0m\n"
     ]
    },
    {
     "name": "stdout",
     "output_type": "stream",
     "text": [
      "[0.9013829127219252]\n",
      "CPU times: user 53.3 s, sys: 14.5 s, total: 1min 7s\n",
      "Wall time: 6min 16s\n"
     ]
    }
   ],
   "source": [
    "%%time\n",
    "# Create study\n",
    "study = optuna.create_study(direction = \"maximize\", sampler = TPESampler(seed=21))\n",
    "\n",
    "# Run optimization\n",
    "study.optimize(objective, n_trials=2)"
   ]
  },
  {
   "cell_type": "code",
   "execution_count": 73,
   "id": "20231aaa",
   "metadata": {
    "execution": {
     "iopub.execute_input": "2021-12-04T23:48:40.026580Z",
     "iopub.status.busy": "2021-12-04T23:48:40.026338Z",
     "iopub.status.idle": "2021-12-05T01:34:03.691820Z",
     "shell.execute_reply": "2021-12-05T01:34:03.691117Z",
     "shell.execute_reply.started": "2021-12-04T23:48:40.026535Z"
    }
   },
   "outputs": [
    {
     "name": "stdout",
     "output_type": "stream",
     "text": [
      "[0.9011729156564899]\n",
      "[0.9018962350792717]\n",
      "[0.9014146963471952]\n",
      "[0.9005806076586915]\n",
      "[0.9018249518327144]\n",
      "[0.9024457151839516]\n",
      "[0.9037405898695046]\n",
      "[0.9017146452603527]\n",
      "[0.8997667605758828]\n"
     ]
    },
    {
     "name": "stderr",
     "output_type": "stream",
     "text": [
      "\u001b[32m[I 2021-12-04 23:56:21,865]\u001b[0m Trial 2 finished with value: 0.9016973496699554 and parameters: {'iterations': 273, 'depth': 9, 'learning_rate': 0.057404222025053464, 'l2_leaf_reg': 9.734366128142419, 'max_ctr_complexity': 6, 'random_strength': 38, 'bagging_temperature': 0.43139322253545526}. Best is trial 2 with value: 0.9016973496699554.\u001b[0m\n"
     ]
    },
    {
     "name": "stdout",
     "output_type": "stream",
     "text": [
      "[0.9024163792355009]\n",
      "[0.9015933477018165]\n",
      "[0.9022101008550821]\n",
      "[0.9017145111822122]\n",
      "[0.9009555759951295]\n",
      "[0.902471915960919]\n",
      "[0.9029795084828871]\n",
      "[0.904093156355288]\n",
      "[0.9024258757117025]\n",
      "[0.9005551532272226]\n"
     ]
    },
    {
     "name": "stderr",
     "output_type": "stream",
     "text": [
      "\u001b[32m[I 2021-12-05 00:02:20,727]\u001b[0m Trial 3 finished with value: 0.9021780505362212 and parameters: {'iterations': 371, 'depth': 5, 'learning_rate': 0.07146655899479473, 'l2_leaf_reg': 9.21847572650625, 'max_ctr_complexity': 6, 'random_strength': 52, 'bagging_temperature': 0.04691838567431964}. Best is trial 3 with value: 0.9021780505362212.\u001b[0m\n"
     ]
    },
    {
     "name": "stdout",
     "output_type": "stream",
     "text": [
      "[0.902781359889953]\n",
      "[0.8845754536983939]\n",
      "[0.8891435316632558]\n",
      "[0.8868992585933315]\n",
      "[0.8840251928010967]\n",
      "[0.883145368754376]\n",
      "[0.8882647602670274]\n",
      "[0.8870291958643496]\n",
      "[0.88590179822283]\n",
      "[0.8804368552939432]\n"
     ]
    },
    {
     "name": "stderr",
     "output_type": "stream",
     "text": [
      "\u001b[32m[I 2021-12-05 00:05:07,279]\u001b[0m Trial 4 finished with value: 0.8853731846944018 and parameters: {'iterations': 184, 'depth': 5, 'learning_rate': 0.021242839930699108, 'l2_leaf_reg': 5.141263004136785, 'max_ctr_complexity': 4, 'random_strength': 21, 'bagging_temperature': 15.829722723991496}. Best is trial 3 with value: 0.9021780505362212.\u001b[0m\n"
     ]
    },
    {
     "name": "stdout",
     "output_type": "stream",
     "text": [
      "[0.8843104317854131]\n",
      "[0.8990367673412136]\n",
      "[0.8996448826289598]\n",
      "[0.8992313958030472]\n",
      "[0.8986364148479303]\n",
      "[0.9001128298406438]\n",
      "[0.9003659548530877]\n",
      "[0.9015170895667662]\n",
      "[0.8996083662515053]\n",
      "[0.8977888081860577]\n"
     ]
    },
    {
     "name": "stderr",
     "output_type": "stream",
     "text": [
      "\u001b[32m[I 2021-12-05 00:14:34,087]\u001b[0m Trial 5 finished with value: 0.8996559769207003 and parameters: {'iterations': 377, 'depth': 9, 'learning_rate': 0.018514918495483337, 'l2_leaf_reg': 6.533422400335912, 'max_ctr_complexity': 5, 'random_strength': 39, 'bagging_temperature': 0.4379421178920733}. Best is trial 3 with value: 0.9021780505362212.\u001b[0m\n"
     ]
    },
    {
     "name": "stdout",
     "output_type": "stream",
     "text": [
      "[0.9006172598877917]\n",
      "[0.8963946060012367]\n",
      "[0.8976093825309067]\n",
      "[0.8963766835803988]\n",
      "[0.8965605133225553]\n",
      "[0.8972084257791366]\n",
      "[0.8982412066821379]\n",
      "[0.9000504000977192]\n",
      "[0.8975235749897177]\n",
      "[0.895612611129396]\n"
     ]
    },
    {
     "name": "stderr",
     "output_type": "stream",
     "text": [
      "\u001b[32m[I 2021-12-05 00:21:49,376]\u001b[0m Trial 6 finished with value: 0.8965075756105974 and parameters: {'iterations': 415, 'depth': 7, 'learning_rate': 0.07912984929177935, 'l2_leaf_reg': 5.410290025441162, 'max_ctr_complexity': 7, 'random_strength': 86, 'bagging_temperature': 14.248874933718481}. Best is trial 3 with value: 0.9021780505362212.\u001b[0m\n"
     ]
    },
    {
     "name": "stdout",
     "output_type": "stream",
     "text": [
      "[0.8894983519927693]\n",
      "[0.901170462295483]\n",
      "[0.9016834277674414]\n",
      "[0.9012818261165797]\n",
      "[0.9004205867227141]\n",
      "[0.9020879213511809]\n",
      "[0.9023420687019428]\n",
      "[0.9035870104888828]\n",
      "[0.9016543859953872]\n",
      "[0.8999294531160223]\n"
     ]
    },
    {
     "name": "stderr",
     "output_type": "stream",
     "text": [
      "\u001b[32m[I 2021-12-05 00:32:10,973]\u001b[0m Trial 7 finished with value: 0.9016673725394773 and parameters: {'iterations': 450, 'depth': 8, 'learning_rate': 0.02847018620606998, 'l2_leaf_reg': 3.7532364830996996, 'max_ctr_complexity': 7, 'random_strength': 14, 'bagging_temperature': 0.40288954161165436}. Best is trial 3 with value: 0.9021780505362212.\u001b[0m\n"
     ]
    },
    {
     "name": "stdout",
     "output_type": "stream",
     "text": [
      "[0.9025165828391368]\n",
      "[0.8978615815940882]\n",
      "[0.8994200312947438]\n",
      "[0.8981762214790522]\n",
      "[0.8976900798355565]\n",
      "[0.899448136167836]\n",
      "[0.8992817548439009]\n",
      "[0.9007292211143144]\n",
      "[0.898807097589148]\n",
      "[0.8969097746302274]\n"
     ]
    },
    {
     "name": "stderr",
     "output_type": "stream",
     "text": [
      "\u001b[32m[I 2021-12-05 00:35:58,717]\u001b[0m Trial 8 finished with value: 0.8988370781215881 and parameters: {'iterations': 154, 'depth': 7, 'learning_rate': 0.07696053142870848, 'l2_leaf_reg': 3.9496743137127104, 'max_ctr_complexity': 7, 'random_strength': 80, 'bagging_temperature': 4.600177517331423}. Best is trial 3 with value: 0.9021780505362212.\u001b[0m\n"
     ]
    },
    {
     "name": "stdout",
     "output_type": "stream",
     "text": [
      "[0.9000468826670134]\n",
      "[0.8961294553519024]\n",
      "[0.8973144418450717]\n",
      "[0.8967823436395318]\n",
      "[0.8957677436684408]\n",
      "[0.8975461251008143]\n",
      "[0.898019983425401]\n",
      "[0.898369627890917]\n",
      "[0.8972071910518995]\n",
      "[0.8953402288712289]\n"
     ]
    },
    {
     "name": "stderr",
     "output_type": "stream",
     "text": [
      "\u001b[32m[I 2021-12-05 00:39:37,606]\u001b[0m Trial 9 finished with value: 0.8970024755625474 and parameters: {'iterations': 160, 'depth': 9, 'learning_rate': 0.029349532672828978, 'l2_leaf_reg': 7.651978542856805, 'max_ctr_complexity': 4, 'random_strength': 87, 'bagging_temperature': 6.436609590712361}. Best is trial 3 with value: 0.9021780505362212.\u001b[0m\n"
     ]
    },
    {
     "name": "stdout",
     "output_type": "stream",
     "text": [
      "[0.8975476147802671]\n",
      "[0.8850923437206392]\n",
      "[0.8880102307740498]\n",
      "[0.8876591778976887]\n",
      "[0.8858295722471742]\n",
      "[0.8878423248943362]\n",
      "[0.8874578720834368]\n",
      "[0.8879554118133774]\n",
      "[0.886526645186868]\n",
      "[0.8844987661464973]\n"
     ]
    },
    {
     "name": "stderr",
     "output_type": "stream",
     "text": [
      "\u001b[32m[I 2021-12-05 00:42:49,649]\u001b[0m Trial 10 finished with value: 0.886851077072025 and parameters: {'iterations': 282, 'depth': 3, 'learning_rate': 0.013090387784708538, 'l2_leaf_reg': 9.84226789779026, 'max_ctr_complexity': 2, 'random_strength': 64, 'bagging_temperature': 0.010986262784020914}. Best is trial 3 with value: 0.9021780505362212.\u001b[0m\n"
     ]
    },
    {
     "name": "stdout",
     "output_type": "stream",
     "text": [
      "[0.8876384259561829]\n",
      "[0.9028935472567374]\n",
      "[0.9035901650481188]\n",
      "[0.9033325894575696]\n",
      "[0.9024281015093848]\n",
      "[0.9035972613016092]\n",
      "[0.9044698990764766]\n",
      "[0.9051113865947898]\n",
      "[0.903852203113506]\n",
      "[0.9021398185211356]\n"
     ]
    },
    {
     "name": "stderr",
     "output_type": "stream",
     "text": [
      "\u001b[32m[I 2021-12-05 00:52:17,340]\u001b[0m Trial 11 finished with value: 0.9035761295689717 and parameters: {'iterations': 293, 'depth': 10, 'learning_rate': 0.09902880913698733, 'l2_leaf_reg': 9.863411715860835, 'max_ctr_complexity': 5, 'random_strength': 45, 'bagging_temperature': 0.044726461496793435}. Best is trial 11 with value: 0.9035761295689717.\u001b[0m\n"
     ]
    },
    {
     "name": "stdout",
     "output_type": "stream",
     "text": [
      "[0.9043463238103879]\n",
      "[0.9007749232560915]\n",
      "[0.9011429641104574]\n",
      "[0.9007264942482811]\n",
      "[0.9001316850338663]\n",
      "[0.9014203698174754]\n",
      "[0.9023246477001909]\n",
      "[0.9032774938919738]\n",
      "[0.901602573884735]\n",
      "[0.8997188500405655]\n"
     ]
    },
    {
     "name": "stderr",
     "output_type": "stream",
     "text": [
      "\u001b[32m[I 2021-12-05 00:57:37,145]\u001b[0m Trial 12 finished with value: 0.901313352967577 and parameters: {'iterations': 498, 'depth': 3, 'learning_rate': 0.09824595908646311, 'l2_leaf_reg': 8.00353650056507, 'max_ctr_complexity': 3, 'random_strength': 57, 'bagging_temperature': 0.011876438696668499}. Best is trial 11 with value: 0.9035761295689717.\u001b[0m\n"
     ]
    },
    {
     "name": "stdout",
     "output_type": "stream",
     "text": [
      "[0.9020135276921316]\n",
      "[0.6794090083864393]\n",
      "[0.6848143667530306]\n",
      "[0.6821839541534489]\n",
      "[0.6837527713681888]\n",
      "[0.6857386576902342]\n",
      "[0.6811840790604009]\n",
      "[0.6822119120567418]\n",
      "[0.6841607370269629]\n",
      "[0.6813831780248305]\n"
     ]
    },
    {
     "name": "stderr",
     "output_type": "stream",
     "text": [
      "\u001b[32m[I 2021-12-05 01:00:18,740]\u001b[0m Trial 13 finished with value: 0.6827870575832728 and parameters: {'iterations': 303, 'depth': 10, 'learning_rate': 0.05495045923296133, 'l2_leaf_reg': 8.287211772668302, 'max_ctr_complexity': 5, 'random_strength': 40, 'bagging_temperature': 93.43605104023345}. Best is trial 11 with value: 0.9035761295689717.\u001b[0m\n"
     ]
    },
    {
     "name": "stdout",
     "output_type": "stream",
     "text": [
      "[0.6830319113124506]\n",
      "[0.9017882814374784]\n",
      "[0.9025756849279056]\n",
      "[0.9020492441177952]\n",
      "[0.9011189456976982]\n",
      "[0.9026050140563914]\n",
      "[0.9031969001811815]\n",
      "[0.9041158049457425]\n",
      "[0.9024123578785994]\n",
      "[0.9008370247404186]\n"
     ]
    },
    {
     "name": "stderr",
     "output_type": "stream",
     "text": [
      "\u001b[32m[I 2021-12-05 01:05:16,354]\u001b[0m Trial 14 finished with value: 0.9023821473438568 and parameters: {'iterations': 243, 'depth': 6, 'learning_rate': 0.09851236219369892, 'l2_leaf_reg': 9.016982383135149, 'max_ctr_complexity': 8, 'random_strength': 70, 'bagging_temperature': 0.056962030663622105}. Best is trial 11 with value: 0.9035761295689717.\u001b[0m\n"
     ]
    },
    {
     "name": "stdout",
     "output_type": "stream",
     "text": [
      "[0.9031222154553558]\n",
      "[0.9014393868166257]\n",
      "[0.902346730457719]\n",
      "[0.9019738837807989]\n",
      "[0.9009933914034686]\n",
      "[0.9024373823314693]\n",
      "[0.9030823645025708]\n",
      "[0.9040246732904622]\n",
      "[0.9022060366458263]\n",
      "[0.9006373611435974]\n"
     ]
    },
    {
     "name": "stderr",
     "output_type": "stream",
     "text": [
      "\u001b[32m[I 2021-12-05 01:10:03,043]\u001b[0m Trial 15 finished with value: 0.902214257332097 and parameters: {'iterations': 231, 'depth': 6, 'learning_rate': 0.09996022059147683, 'l2_leaf_reg': 7.319287207042267, 'max_ctr_complexity': 8, 'random_strength': 71, 'bagging_temperature': 0.07226853560813466}. Best is trial 11 with value: 0.9035761295689717.\u001b[0m\n"
     ]
    },
    {
     "name": "stdout",
     "output_type": "stream",
     "text": [
      "[0.903001362948431]\n",
      "[0.8970785978849709]\n",
      "[0.8980618166023262]\n",
      "[0.8975071573007987]\n",
      "[0.896863101797123]\n",
      "[0.8984642154873227]\n",
      "[0.8988583667795956]\n",
      "[0.8995371725835078]\n",
      "[0.8980631079961716]\n",
      "[0.896443870041391]\n"
     ]
    },
    {
     "name": "stderr",
     "output_type": "stream",
     "text": [
      "\u001b[32m[I 2021-12-05 01:13:29,251]\u001b[0m Trial 16 finished with value: 0.8979813058714624 and parameters: {'iterations': 87, 'depth': 10, 'learning_rate': 0.040901413502549805, 'l2_leaf_reg': 8.788531155678182, 'max_ctr_complexity': 8, 'random_strength': 71, 'bagging_temperature': 1.620192814398018}. Best is trial 11 with value: 0.9035761295689717.\u001b[0m\n"
     ]
    },
    {
     "name": "stdout",
     "output_type": "stream",
     "text": [
      "[0.8989356522414169]\n",
      "[0.8919745343985441]\n",
      "[0.8941063530293177]\n",
      "[0.8933932910073745]\n",
      "[0.8925766964331605]\n",
      "[0.8947004993128136]\n",
      "[0.8946809840672564]\n",
      "[0.8955393711643626]\n",
      "[0.8938216956856259]\n",
      "[0.8915949936123974]\n"
     ]
    },
    {
     "name": "stderr",
     "output_type": "stream",
     "text": [
      "\u001b[32m[I 2021-12-05 01:15:54,635]\u001b[0m Trial 17 finished with value: 0.8936878814226805 and parameters: {'iterations': 223, 'depth': 6, 'learning_rate': 0.06809065938052149, 'l2_leaf_reg': 6.60851368744403, 'max_ctr_complexity': 0, 'random_strength': 29, 'bagging_temperature': 0.02814502549634434}. Best is trial 11 with value: 0.9035761295689717.\u001b[0m\n"
     ]
    },
    {
     "name": "stdout",
     "output_type": "stream",
     "text": [
      "[0.8944903955159518]\n",
      "[0.8984370608900761]\n",
      "[0.8994182218479696]\n",
      "[0.8992238417446656]\n",
      "[0.8981263392663971]\n",
      "[0.8997632599322839]\n",
      "[0.9000740652921744]\n",
      "[0.9014576547980663]\n",
      "[0.8993065219524824]\n",
      "[0.8978512411053924]\n"
     ]
    },
    {
     "name": "stderr",
     "output_type": "stream",
     "text": [
      "\u001b[32m[I 2021-12-05 01:21:55,985]\u001b[0m Trial 18 finished with value: 0.8993910552896096 and parameters: {'iterations': 323, 'depth': 8, 'learning_rate': 0.04345414855512785, 'l2_leaf_reg': 8.875071082118854, 'max_ctr_complexity': 3, 'random_strength': 49, 'bagging_temperature': 0.16549058284818846}. Best is trial 11 with value: 0.9035761295689717.\u001b[0m\n"
     ]
    },
    {
     "name": "stdout",
     "output_type": "stream",
     "text": [
      "[0.9002523460665881]\n",
      "[0.8892994902736198]\n",
      "[0.8912441098070047]\n",
      "[0.8902822759611426]\n",
      "[0.8899244046529635]\n",
      "[0.8914221563321941]\n",
      "[0.8910003880853146]\n",
      "[0.892670272490796]\n",
      "[0.8908232136994224]\n",
      "[0.8879208986160585]\n"
     ]
    },
    {
     "name": "stderr",
     "output_type": "stream",
     "text": [
      "\u001b[32m[I 2021-12-05 01:25:53,144]\u001b[0m Trial 19 finished with value: 0.8906224284557824 and parameters: {'iterations': 247, 'depth': 4, 'learning_rate': 0.011717295742002982, 'l2_leaf_reg': 6.702777469099536, 'max_ctr_complexity': 5, 'random_strength': 98, 'bagging_temperature': 1.2461429312831218}. Best is trial 11 with value: 0.9035761295689717.\u001b[0m\n"
     ]
    },
    {
     "name": "stdout",
     "output_type": "stream",
     "text": [
      "[0.8916370746393077]\n",
      "[0.8986369598840844]\n",
      "[0.899543427809972]\n",
      "[0.8992974519708745]\n",
      "[0.8985555545328219]\n",
      "[0.900076368956261]\n",
      "[0.9002577223193445]\n",
      "[0.9019533067318684]\n",
      "[0.899522974316256]\n",
      "[0.8979681180681712]\n"
     ]
    },
    {
     "name": "stderr",
     "output_type": "stream",
     "text": [
      "\u001b[32m[I 2021-12-05 01:29:30,666]\u001b[0m Trial 20 finished with value: 0.8996309861695024 and parameters: {'iterations': 122, 'depth': 8, 'learning_rate': 0.0885529564249055, 'l2_leaf_reg': 9.872596990037772, 'max_ctr_complexity': 6, 'random_strength': 63, 'bagging_temperature': 0.13378459350565755}. Best is trial 11 with value: 0.9035761295689717.\u001b[0m\n"
     ]
    },
    {
     "name": "stdout",
     "output_type": "stream",
     "text": [
      "[0.900497977105371]\n",
      "[0.9011733873904659]\n",
      "[0.9019690454941827]\n",
      "[0.9015165572582776]\n",
      "[0.9005758946751182]\n",
      "[0.9023057509053053]\n",
      "[0.9026194002248668]\n",
      "[0.9037222730469179]\n",
      "[0.9018609543704879]\n",
      "[0.9002381616965216]\n"
     ]
    },
    {
     "name": "stderr",
     "output_type": "stream",
     "text": [
      "\u001b[32m[I 2021-12-05 01:34:03,688]\u001b[0m Trial 21 finished with value: 0.9018745897561129 and parameters: {'iterations': 211, 'depth': 6, 'learning_rate': 0.09929375041920775, 'l2_leaf_reg': 7.419679047846429, 'max_ctr_complexity': 8, 'random_strength': 73, 'bagging_temperature': 0.0681445643077473}. Best is trial 11 with value: 0.9035761295689717.\u001b[0m\n"
     ]
    },
    {
     "name": "stdout",
     "output_type": "stream",
     "text": [
      "[0.9027644724989857]\n"
     ]
    }
   ],
   "source": [
    "# Run optimization for 20 more trials\n",
    "study.optimize(objective, n_trials=20)"
   ]
  },
  {
   "cell_type": "code",
   "execution_count": 74,
   "id": "dcc379ff",
   "metadata": {
    "execution": {
     "iopub.execute_input": "2021-12-05T01:34:03.693042Z",
     "iopub.status.busy": "2021-12-05T01:34:03.692864Z",
     "iopub.status.idle": "2021-12-05T01:34:03.696728Z",
     "shell.execute_reply": "2021-12-05T01:34:03.696117Z",
     "shell.execute_reply.started": "2021-12-05T01:34:03.693023Z"
    }
   },
   "outputs": [
    {
     "name": "stdout",
     "output_type": "stream",
     "text": [
      "{'iterations': 293, 'depth': 10, 'learning_rate': 0.09902880913698733, 'l2_leaf_reg': 9.863411715860835, 'max_ctr_complexity': 5, 'random_strength': 45, 'bagging_temperature': 0.044726461496793435}\n"
     ]
    }
   ],
   "source": [
    "#select the best trail parameters from the study\n",
    "tuned_params = study.best_trial.params\n",
    "print(tuned_params)"
   ]
  },
  {
   "cell_type": "markdown",
   "id": "f6eb05f4",
   "metadata": {},
   "source": [
    "Now we have the tuned parameters we are going to use them to fit further 5 fold cross validation models to get predicted values for the training data to use it to compare performance with the hold out sample (the test data created in the beginninig with train_test_split which was not used in hyperparameter search)\n",
    "\n",
    "The cross_val_predict function below will iterate the training of the classifier using tuned parameters across 5 folds and return predictions for each holdout. As we complete this process, we will have predicted values for the training sample using 5 different models."
   ]
  },
  {
   "cell_type": "code",
   "execution_count": 55,
   "id": "dad8abe6",
   "metadata": {
    "execution": {
     "iopub.execute_input": "2021-12-05T17:52:46.156545Z",
     "iopub.status.busy": "2021-12-05T17:52:46.156291Z",
     "iopub.status.idle": "2021-12-05T17:52:46.163090Z",
     "shell.execute_reply": "2021-12-05T17:52:46.162467Z",
     "shell.execute_reply.started": "2021-12-05T17:52:46.156519Z"
    }
   },
   "outputs": [],
   "source": [
    "# function to predict training target using k fold cross validation and parameters tuned using Bayesian Optimizaiton above\n",
    "\n",
    "def cross_val_predict(folds, tuned_params):\n",
    "      \n",
    "    kf = KFold(n_splits=folds, random_state=21, shuffle=True)\n",
    "    preds = []\n",
    "    true = []\n",
    "    n = 0\n",
    "\n",
    "    for train_idx, val_idx in kf.split(X_train):\n",
    "        n +=1\n",
    "        print(\"Training fold #{}\".format(n))\n",
    "        train_x, val_x = X_train.iloc[train_idx], X_train.iloc[val_idx]\n",
    "        train_y, val_y = y_train.iloc[train_idx], y_train.iloc[val_idx]\n",
    "\n",
    "        cat_cols = X_train.columns.values.tolist()\n",
    "\n",
    "        train_pool = Pool(data = train_x,\n",
    "                    label = train_y,\n",
    "                    cat_features = cat_cols)\n",
    "\n",
    "        val_pool = Pool(data = val_x,\n",
    "                    label = val_y,\n",
    "                    cat_features = cat_cols)\n",
    "\n",
    "        model = CatBoostClassifier(\n",
    "            **tuned_params,\n",
    "            loss_function= 'Logloss',\n",
    "            #eval_metric='AUC',\n",
    "            task_type='GPU',\n",
    "            #early_stopping_rounds=50,\n",
    "            random_seed=21,\n",
    "            )\n",
    "    \n",
    "        model.fit(train_pool, \n",
    "                #eval_set=val_pool,\n",
    "                verbose=50)\n",
    "        y_preds = model.predict_proba(val_pool)\n",
    "        print(\"The mean prediction is: {}\".format(np.mean(y_preds)))\n",
    "        print(\"AUC score is: {}\".format(eval_metric(val_pool.get_label(), y_preds[:,1], 'AUC')))\n",
    "        preds.append(y_preds[:,1])\n",
    "        true.append(val_y)\n",
    "        \n",
    "    return np.vstack(preds), np.vstack(true)\n"
   ]
  },
  {
   "cell_type": "code",
   "execution_count": 56,
   "id": "91948c8b",
   "metadata": {
    "execution": {
     "iopub.execute_input": "2021-12-05T17:52:57.302868Z",
     "iopub.status.busy": "2021-12-05T17:52:57.302637Z",
     "iopub.status.idle": "2021-12-05T17:56:41.931510Z",
     "shell.execute_reply": "2021-12-05T17:56:41.930585Z",
     "shell.execute_reply.started": "2021-12-05T17:52:57.302845Z"
    }
   },
   "outputs": [
    {
     "name": "stdout",
     "output_type": "stream",
     "text": [
      "Training fold #1\n",
      "0:\tlearn: 0.6070195\ttotal: 125ms\tremaining: 36.5s\n",
      "50:\tlearn: 0.3163955\ttotal: 6.68s\tremaining: 31.7s\n",
      "100:\tlearn: 0.3118849\ttotal: 12.8s\tremaining: 24.4s\n",
      "150:\tlearn: 0.3084177\ttotal: 19s\tremaining: 17.9s\n",
      "200:\tlearn: 0.3027622\ttotal: 25.7s\tremaining: 11.8s\n",
      "250:\tlearn: 0.2992880\ttotal: 32.3s\tremaining: 5.4s\n",
      "292:\tlearn: 0.2968334\ttotal: 37.9s\tremaining: 0us\n",
      "The mean prediction is: 0.5\n",
      "AUC score is: [0.9028937406793534]\n",
      "Training fold #2\n",
      "0:\tlearn: 0.6074046\ttotal: 127ms\tremaining: 37s\n",
      "50:\tlearn: 0.3157671\ttotal: 6.57s\tremaining: 31.2s\n",
      "100:\tlearn: 0.3113085\ttotal: 12.9s\tremaining: 24.4s\n",
      "150:\tlearn: 0.3082973\ttotal: 19.1s\tremaining: 18s\n",
      "200:\tlearn: 0.3030123\ttotal: 25.7s\tremaining: 11.8s\n",
      "250:\tlearn: 0.2992543\ttotal: 32.5s\tremaining: 5.43s\n",
      "292:\tlearn: 0.2966949\ttotal: 38s\tremaining: 0us\n",
      "The mean prediction is: 0.4999999999999999\n",
      "AUC score is: [0.9025781930450302]\n",
      "Training fold #3\n",
      "0:\tlearn: 0.6074503\ttotal: 125ms\tremaining: 36.5s\n",
      "50:\tlearn: 0.3167052\ttotal: 6.55s\tremaining: 31.1s\n",
      "100:\tlearn: 0.3121867\ttotal: 13.2s\tremaining: 25.1s\n",
      "150:\tlearn: 0.3087668\ttotal: 19.5s\tremaining: 18.3s\n",
      "200:\tlearn: 0.3034353\ttotal: 26s\tremaining: 11.9s\n",
      "250:\tlearn: 0.3006627\ttotal: 32.8s\tremaining: 5.48s\n",
      "292:\tlearn: 0.2979889\ttotal: 38.4s\tremaining: 0us\n",
      "The mean prediction is: 0.4999999999999999\n",
      "AUC score is: [0.903904297098553]\n",
      "Training fold #4\n",
      "0:\tlearn: 0.6071864\ttotal: 124ms\tremaining: 36.2s\n",
      "50:\tlearn: 0.3161022\ttotal: 6.58s\tremaining: 31.2s\n",
      "100:\tlearn: 0.3119829\ttotal: 13.3s\tremaining: 25.2s\n",
      "150:\tlearn: 0.3087137\ttotal: 19.5s\tremaining: 18.4s\n",
      "200:\tlearn: 0.3040479\ttotal: 26.1s\tremaining: 11.9s\n",
      "250:\tlearn: 0.3009752\ttotal: 32.7s\tremaining: 5.47s\n",
      "292:\tlearn: 0.2986471\ttotal: 38.3s\tremaining: 0us\n",
      "The mean prediction is: 0.4999999999999999\n",
      "AUC score is: [0.904240016222082]\n",
      "Training fold #5\n",
      "0:\tlearn: 0.6071468\ttotal: 126ms\tremaining: 36.7s\n",
      "50:\tlearn: 0.3164695\ttotal: 6.59s\tremaining: 31.3s\n",
      "100:\tlearn: 0.3122763\ttotal: 13.2s\tremaining: 25.2s\n",
      "150:\tlearn: 0.3085426\ttotal: 19.6s\tremaining: 18.5s\n",
      "200:\tlearn: 0.3035028\ttotal: 26.3s\tremaining: 12s\n",
      "250:\tlearn: 0.3005026\ttotal: 33s\tremaining: 5.52s\n",
      "292:\tlearn: 0.2978733\ttotal: 38.7s\tremaining: 0us\n",
      "The mean prediction is: 0.4999999999999999\n",
      "AUC score is: [0.9029765740648429]\n",
      "CPU times: user 4min 43s, sys: 18 s, total: 5min 1s\n",
      "Wall time: 3min 44s\n"
     ]
    }
   ],
   "source": [
    "%%time\n",
    "train_data_preds, train_data_true = cross_val_predict(folds=5, tuned_params)"
   ]
  },
  {
   "cell_type": "code",
   "execution_count": 72,
   "id": "15b76627",
   "metadata": {
    "execution": {
     "iopub.execute_input": "2021-12-05T18:21:08.612435Z",
     "iopub.status.busy": "2021-12-05T18:21:08.612208Z",
     "iopub.status.idle": "2021-12-05T18:21:08.617963Z",
     "shell.execute_reply": "2021-12-05T18:21:08.617254Z",
     "shell.execute_reply.started": "2021-12-05T18:21:08.612412Z"
    }
   },
   "outputs": [],
   "source": [
    "train_data_preds = np.concatenate(train_data_preds, axis = 0)\n",
    "train_data_true = np.concatenate(train_data_true, axis = 0)"
   ]
  },
  {
   "cell_type": "markdown",
   "id": "b82938be",
   "metadata": {},
   "source": [
    "Finally we will fit the final model with the training sample and use the model to predict values for the holdout (test sample not used in hyperparameter search or cross-val predict)"
   ]
  },
  {
   "cell_type": "code",
   "execution_count": 70,
   "id": "17b1aafe",
   "metadata": {
    "execution": {
     "iopub.execute_input": "2021-12-05T18:17:29.745981Z",
     "iopub.status.busy": "2021-12-05T18:17:29.745741Z",
     "iopub.status.idle": "2021-12-05T18:17:33.059143Z",
     "shell.execute_reply": "2021-12-05T18:17:33.058491Z",
     "shell.execute_reply.started": "2021-12-05T18:17:29.745959Z"
    }
   },
   "outputs": [],
   "source": [
    "# create train/test pools for catboost classifier\n",
    "\n",
    "cat_cols = X.columns.values.tolist()\n",
    "\n",
    "train_data = Pool(data = X_train,\n",
    "                  label = y_train,\n",
    "                  cat_features = cat_cols)\n",
    "\n",
    "test_data = Pool(data = X_test,\n",
    "                    label = y_test,\n",
    "                    cat_features = cat_cols)\n"
   ]
  },
  {
   "cell_type": "code",
   "execution_count": 65,
   "id": "7bb361a5",
   "metadata": {
    "execution": {
     "iopub.execute_input": "2021-12-05T18:11:34.860965Z",
     "iopub.status.busy": "2021-12-05T18:11:34.860732Z",
     "iopub.status.idle": "2021-12-05T18:11:34.864418Z",
     "shell.execute_reply": "2021-12-05T18:11:34.863593Z",
     "shell.execute_reply.started": "2021-12-05T18:11:34.860943Z"
    }
   },
   "outputs": [],
   "source": [
    "final_model = CatBoostClassifier(\n",
    "            **tuned_params,\n",
    "            loss_function= 'Logloss',\n",
    "            task_type='GPU',\n",
    "            random_seed=21)"
   ]
  },
  {
   "cell_type": "code",
   "execution_count": 66,
   "id": "056396c3",
   "metadata": {
    "execution": {
     "iopub.execute_input": "2021-12-05T18:15:08.252848Z",
     "iopub.status.busy": "2021-12-05T18:15:08.252617Z",
     "iopub.status.idle": "2021-12-05T18:15:57.172174Z",
     "shell.execute_reply": "2021-12-05T18:15:57.171555Z",
     "shell.execute_reply.started": "2021-12-05T18:15:08.252824Z"
    }
   },
   "outputs": [
    {
     "name": "stdout",
     "output_type": "stream",
     "text": [
      "0:\tlearn: 0.6072652\ttotal: 147ms\tremaining: 43s\n",
      "10:\tlearn: 0.3514783\ttotal: 1.58s\tremaining: 40.6s\n",
      "20:\tlearn: 0.3263344\ttotal: 3.18s\tremaining: 41.2s\n",
      "30:\tlearn: 0.3203455\ttotal: 4.7s\tremaining: 39.7s\n",
      "40:\tlearn: 0.3181676\ttotal: 6.23s\tremaining: 38.3s\n",
      "50:\tlearn: 0.3163639\ttotal: 7.82s\tremaining: 37.1s\n",
      "60:\tlearn: 0.3154713\ttotal: 9.43s\tremaining: 35.9s\n",
      "70:\tlearn: 0.3147162\ttotal: 10.9s\tremaining: 34.1s\n",
      "80:\tlearn: 0.3139279\ttotal: 12.4s\tremaining: 32.5s\n",
      "90:\tlearn: 0.3130938\ttotal: 14.1s\tremaining: 31.2s\n",
      "100:\tlearn: 0.3123880\ttotal: 15.7s\tremaining: 29.9s\n",
      "110:\tlearn: 0.3117915\ttotal: 17.1s\tremaining: 28.1s\n",
      "120:\tlearn: 0.3112879\ttotal: 18.7s\tremaining: 26.6s\n",
      "130:\tlearn: 0.3106964\ttotal: 20.3s\tremaining: 25.1s\n",
      "140:\tlearn: 0.3101486\ttotal: 21.7s\tremaining: 23.3s\n",
      "150:\tlearn: 0.3092162\ttotal: 23.2s\tremaining: 21.8s\n",
      "160:\tlearn: 0.3085636\ttotal: 24.6s\tremaining: 20.2s\n",
      "170:\tlearn: 0.3073701\ttotal: 26.2s\tremaining: 18.7s\n",
      "180:\tlearn: 0.3062996\ttotal: 27.8s\tremaining: 17.2s\n",
      "190:\tlearn: 0.3052282\ttotal: 29.3s\tremaining: 15.7s\n",
      "200:\tlearn: 0.3044713\ttotal: 30.9s\tremaining: 14.1s\n",
      "210:\tlearn: 0.3039210\ttotal: 32.4s\tremaining: 12.6s\n",
      "220:\tlearn: 0.3034271\ttotal: 33.9s\tremaining: 11.1s\n",
      "230:\tlearn: 0.3029219\ttotal: 35.5s\tremaining: 9.52s\n",
      "240:\tlearn: 0.3024920\ttotal: 37s\tremaining: 7.98s\n",
      "250:\tlearn: 0.3019920\ttotal: 38.6s\tremaining: 6.46s\n",
      "260:\tlearn: 0.3014502\ttotal: 40.2s\tremaining: 4.92s\n",
      "270:\tlearn: 0.3009132\ttotal: 41.7s\tremaining: 3.39s\n",
      "280:\tlearn: 0.3004474\ttotal: 43.3s\tremaining: 1.85s\n",
      "290:\tlearn: 0.2999984\ttotal: 44.9s\tremaining: 308ms\n",
      "292:\tlearn: 0.2998589\ttotal: 45.2s\tremaining: 0us\n"
     ]
    },
    {
     "data": {
      "text/plain": [
       "<catboost.core.CatBoostClassifier at 0x7f8545fa68e0>"
      ]
     },
     "execution_count": 66,
     "metadata": {},
     "output_type": "execute_result"
    }
   ],
   "source": [
    "# fit the final model \n",
    "final_model.fit(train_data,\n",
    "                verbose=10)"
   ]
  },
  {
   "cell_type": "code",
   "execution_count": 71,
   "id": "8555ca27",
   "metadata": {
    "execution": {
     "iopub.execute_input": "2021-12-05T18:17:35.903803Z",
     "iopub.status.busy": "2021-12-05T18:17:35.903560Z",
     "iopub.status.idle": "2021-12-05T18:17:37.257206Z",
     "shell.execute_reply": "2021-12-05T18:17:37.256621Z",
     "shell.execute_reply.started": "2021-12-05T18:17:35.903772Z"
    }
   },
   "outputs": [],
   "source": [
    "# Get predictions for test data\n",
    "\n",
    "test_data_preds = final_model.predict_proba(test_data)"
   ]
  },
  {
   "cell_type": "markdown",
   "id": "e8324027",
   "metadata": {
    "execution": {
     "iopub.execute_input": "2021-12-05T20:12:35.981339Z",
     "iopub.status.busy": "2021-12-05T20:12:35.981114Z",
     "iopub.status.idle": "2021-12-05T20:12:35.985790Z",
     "shell.execute_reply": "2021-12-05T20:12:35.984835Z",
     "shell.execute_reply.started": "2021-12-05T20:12:35.981317Z"
    }
   },
   "source": [
    "Let's compute some performance metrics on training and test predictions to evaluate the performance of our model.\n",
    "We will use the following robust evaluation metrics used for classification problems:\n",
    " 1. AUC\n",
    " 2. Logloss\n",
    " 3. Accuracy\n",
    " 4. F1 Score"
   ]
  },
  {
   "cell_type": "code",
   "execution_count": 92,
   "id": "04537142",
   "metadata": {
    "execution": {
     "iopub.execute_input": "2021-12-05T18:48:43.262740Z",
     "iopub.status.busy": "2021-12-05T18:48:43.262517Z",
     "iopub.status.idle": "2021-12-05T18:48:43.419604Z",
     "shell.execute_reply": "2021-12-05T18:48:43.418872Z",
     "shell.execute_reply.started": "2021-12-05T18:48:43.262718Z"
    }
   },
   "outputs": [
    {
     "name": "stdout",
     "output_type": "stream",
     "text": [
      "Train AUC:[0.9033115522547814]\n",
      "Test AUC:[0.9037158947782884]\n"
     ]
    }
   ],
   "source": [
    "# Compute AUC score\n",
    "\n",
    "auc_train = eval_metric(train_data_true, train_data_preds, 'AUC')\n",
    "auc_test = eval_metric(test_data.get_label(), test_data_preds[:,1], 'AUC')\n",
    "print(\"Train AUC:{}\".format(auc_train))\n",
    "print(\"Test AUC:{}\".format(auc_test))"
   ]
  },
  {
   "cell_type": "markdown",
   "id": "ef918540",
   "metadata": {},
   "source": [
    "The train and test AUCs are greater than 0.90 which means our model is pretty good at discriminating cases that result in arrest with those that do not.\n",
    "\n",
    "We used Logloss as our loss function and our model tried to minimize it towards zero besides that we can't say much about the raw Logloss values. "
   ]
  },
  {
   "cell_type": "code",
   "execution_count": 95,
   "id": "defc81ac",
   "metadata": {
    "execution": {
     "iopub.execute_input": "2021-12-05T18:50:02.639019Z",
     "iopub.status.busy": "2021-12-05T18:50:02.638780Z",
     "iopub.status.idle": "2021-12-05T18:50:02.751002Z",
     "shell.execute_reply": "2021-12-05T18:50:02.750382Z",
     "shell.execute_reply.started": "2021-12-05T18:50:02.638996Z"
    }
   },
   "outputs": [
    {
     "name": "stdout",
     "output_type": "stream",
     "text": [
      "Train Logloss:[0.6636908444307708]\n",
      "Test Logloss:[0.6639550261296439]\n"
     ]
    }
   ],
   "source": [
    "# Logloss\n",
    "\n",
    "Logloss_train = eval_metric(train_data_true, train_data_preds, 'Logloss')\n",
    "Logloss_test = eval_metric(test_data.get_label(), test_data_preds[:,1], 'Logloss')\n",
    "print(\"Train Logloss:{}\".format(Logloss_train))\n",
    "print(\"Test Logloss:{}\".format(Logloss_test))\n"
   ]
  },
  {
   "cell_type": "markdown",
   "id": "f8672928",
   "metadata": {},
   "source": [
    "The model's accuracy turns out to be pretty low."
   ]
  },
  {
   "cell_type": "code",
   "execution_count": 97,
   "id": "5ce942fc",
   "metadata": {
    "execution": {
     "iopub.execute_input": "2021-12-05T18:53:18.736700Z",
     "iopub.status.busy": "2021-12-05T18:53:18.736456Z",
     "iopub.status.idle": "2021-12-05T18:53:18.827321Z",
     "shell.execute_reply": "2021-12-05T18:53:18.826623Z",
     "shell.execute_reply.started": "2021-12-05T18:53:18.736677Z"
    }
   },
   "outputs": [
    {
     "name": "stdout",
     "output_type": "stream",
     "text": [
      "Train Accuracy:[0.293348]\n",
      "Test Accuracy:[0.293348]\n"
     ]
    }
   ],
   "source": [
    "# Accuracy\n",
    "\n",
    "Accuracy_train = eval_metric(train_data_true, train_data_preds, 'Accuracy')\n",
    "Accuracy_test = eval_metric(test_data.get_label(), test_data_preds[:,1], 'Accuracy')\n",
    "print(\"Train Accuracy:{}\".format(Accuracy_train))\n",
    "print(\"Test Accuracy:{}\".format(Accuracy_train))"
   ]
  },
  {
   "cell_type": "markdown",
   "id": "bf992121",
   "metadata": {},
   "source": [
    "The F1 score for our model has a low value as well."
   ]
  },
  {
   "cell_type": "code",
   "execution_count": 103,
   "id": "969bb4ed",
   "metadata": {
    "execution": {
     "iopub.execute_input": "2021-12-05T20:17:25.856844Z",
     "iopub.status.busy": "2021-12-05T20:17:25.856610Z",
     "iopub.status.idle": "2021-12-05T20:17:25.956753Z",
     "shell.execute_reply": "2021-12-05T20:17:25.955954Z",
     "shell.execute_reply.started": "2021-12-05T20:17:25.856820Z"
    }
   },
   "outputs": [
    {
     "name": "stdout",
     "output_type": "stream",
     "text": [
      "Train F1:[0.45362578362513417]\n",
      "Test F1:[0.45362578362513417]\n"
     ]
    }
   ],
   "source": [
    "# F1\n",
    "\n",
    "F1_train = eval_metric(train_data_true, train_data_preds, 'F1')\n",
    "F1_test = eval_metric(test_data.get_label(), test_data_preds[:,1], 'F1')\n",
    "print(\"Train F1:{}\".format(F1_train))\n",
    "print(\"Test F1:{}\".format(F1_train))"
   ]
  },
  {
   "cell_type": "markdown",
   "id": "175b4df0",
   "metadata": {},
   "source": [
    "As we look at the evaluation metrics, the training and test metrics are fairly close. It means our model is about as good at prediction on test data as it is on the training data. We can conclude that our model does not overfit on the training dataset."
   ]
  },
  {
   "cell_type": "code",
   "execution_count": null,
   "id": "aea88dae",
   "metadata": {},
   "outputs": [],
   "source": []
  }
 ],
 "metadata": {
  "kernelspec": {
   "display_name": "saturn (Python 3)",
   "language": "python",
   "name": "python3"
  },
  "language_info": {
   "codemirror_mode": {
    "name": "ipython",
    "version": 3
   },
   "file_extension": ".py",
   "mimetype": "text/x-python",
   "name": "python",
   "nbconvert_exporter": "python",
   "pygments_lexer": "ipython3",
   "version": "3.9.5"
  }
 },
 "nbformat": 4,
 "nbformat_minor": 5
}
